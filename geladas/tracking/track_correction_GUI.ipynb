{
 "cells": [
  {
   "cell_type": "code",
   "execution_count": 1,
   "metadata": {},
   "outputs": [],
   "source": [
    "import glob\n",
    "import json\n",
    "import os\n",
    "\n",
    "import cv2\n",
    "\n",
    "# local .json file with local path info\n",
    "geladas_root = os.path.dirname(os.getcwd())\n",
    "local_paths_file = os.path.join(geladas_root, 'local-paths.json')\n",
    "with open(local_paths_file, \"r\") as json_file:\n",
    "    local_paths = json.load(json_file)\n",
    "\n",
    "import sys\n",
    "sys.path.append(local_paths['overhead_functions_path'])\n",
    "\n",
    "from TrackCorrectionGUI import TrackCorrectionGUI"
   ]
  },
  {
   "cell_type": "code",
   "execution_count": 2,
   "metadata": {
    "scrolled": true
   },
   "outputs": [],
   "source": [
    "#SETUP\n",
    "\n",
    "# The yellow track is the focal track that is being corrected\n",
    "# The blue track is the other track that might be merged with \n",
    "# the focal track\n",
    "\n",
    "# KEY FUNCTIONS:\n",
    "# next frame = \"]\"\n",
    "# previous frame = \"[\"\n",
    "# advance 3 frames = \";\"\n",
    "# go back 3 frames = \"k\"\n",
    "# advance 30 frames = \"x\"\n",
    "# go back 30 frames = \"z\"\n",
    "# advance 90 frames = \"9\"\n",
    "# go back 90 frames = \"0\"\n",
    "# advance 5000 frames = \"1\"\n",
    "# go back 5000 frames = \"2\"\n",
    "\n",
    "# go to frame at beginning of current possible merge track = \"b\"\n",
    "# go to frame at end of yellow (focal) track = \"g\"\n",
    "# next possible merge track = \"o\"\n",
    "# previous possible merge track = \"l\"\n",
    "# next focal track = \".\" (same button as '>')\n",
    "# previous focal track = \",\" (same button as '<')\n",
    "# add point to focal track = click anywhere on picture\n",
    "# merge focal track with current selected merge track = space bar\n",
    "# permanently remove blue track = \"-\" \n",
    "\n",
    "# split focal track at current frame = \"s\"\n",
    "# split possible merge track at current frame = \"a\"\n",
    "\n",
    "# undo last action = \"u\"\n",
    "# hide tracks (so easier to see frame) = \"h\""
   ]
  },
  {
   "cell_type": "code",
   "execution_count": 3,
   "metadata": {},
   "outputs": [],
   "source": [
    "#THINGS FOR USER TO ADD:\n",
    "#file containing info about the tracks\n",
    "\n",
    "# The tracks file should be a list of dictionaries\n",
    "# Each dictionary contains information about one track\n",
    "# The dictionary must have the key \"track\", \"first_frame\", \"last_frame\"\n",
    "# the key \"track\" returns an numpy array of shape (N, 2) where N is the length of the track in frames\n",
    "# each point in the track is in numpy array indexing so row, column from top left corner of image\n",
    "\n",
    "# The key \"first_frame\" returns the first frame number of the video the track appears\n",
    "# The key \"last_frame\" returns the last frame number of the video that the track appears\n",
    "video_name = \"DJI_0205\"\n",
    "\n",
    "tracks_file = os.path.join(local_paths['base_gelada'], \"processing\", video_name, \n",
    "                           \"raw_tracks.npy\")\n",
    "\n",
    "# Path to frames\n",
    "frames_folder = os.path.join(local_paths['base_gelada'], \"frames\", video_name)\n",
    "frame_files = sorted(glob.glob(os.path.join(frames_folder, '*.jpg')))\n",
    " \n",
    "# how much you want to rescale the original frame resolution to display (and fit)on the screen    \n",
    "factor = 1.0"
   ]
  },
  {
   "cell_type": "code",
   "execution_count": 4,
   "metadata": {},
   "outputs": [],
   "source": [
    "import numpy as np"
   ]
  },
  {
   "cell_type": "code",
   "execution_count": 5,
   "metadata": {},
   "outputs": [],
   "source": [
    "frame = cv2.imread(frame_files[0])"
   ]
  },
  {
   "cell_type": "code",
   "execution_count": 6,
   "metadata": {},
   "outputs": [],
   "source": [
    "# nm_tracks = np.load(tracks_file, allow_pickle=True)\n",
    "# for track in nm_tracks:\n",
    "#     track_copy = np.copy(track['track'])\n",
    "#     track['track'][:, 0] = frame.shape[0] - track_copy[:, 1]\n",
    "#     track['track'][:, 1] = track_copy[:, 0]\n",
    "#     track['pos_index'] = np.expand_dims(track['pos_index'], 1)"
   ]
  },
  {
   "cell_type": "code",
   "execution_count": 7,
   "metadata": {},
   "outputs": [],
   "source": [
    "mod_file = os.path.join(local_paths['base_gelada'], \"processing\", video_name, \"raw_tracks_nm-final.npy\")\n",
    "# np.save(mod_file, nm_tracks)"
   ]
  },
  {
   "cell_type": "code",
   "execution_count": 8,
   "metadata": {},
   "outputs": [
    {
     "name": "stdout",
     "output_type": "stream",
     "text": [
      "starting\n",
      "initialized\n",
      "found track\n",
      "drawing_window\n",
      "saved at /mount/zfs-kn/gelada_project/processing/DJI_0205/raw_tracks_nm-final-0.0.npy\n",
      "adding point\n",
      "saved at /mount/zfs-kn/gelada_project/processing/DJI_0205/raw_tracks_nm-final-final.npy\n"
     ]
    }
   ],
   "source": [
    "#RUN\n",
    "print('starting')\n",
    "#get good track, draw image on window, set mouse to work\n",
    "window = TrackCorrectionGUI(mod_file, frame_files, factor, point_scale=1)\n",
    "print('initialized')\n",
    "window.find_next_track()\n",
    "print('found track')\n",
    "window.draw_window()\n",
    "print('drawing_window')\n",
    "cv2.namedWindow('pic0')\n",
    "cv2.setMouseCallback('pic0', window.clicked)\n",
    "\n",
    "#loop to keep image updating\n",
    "while True:\n",
    "    # exit when user presses esc key\n",
    "    key = cv2.waitKey(2) & 0xff\n",
    "    window.detect_keys(key)\n",
    "    if key == 27:\n",
    "        window.save('active')\n",
    "        break\n",
    "cv2.destroyAllWindows()"
   ]
  },
  {
   "cell_type": "code",
   "execution_count": 12,
   "metadata": {},
   "outputs": [],
   "source": [
    "nan = np.empty((1,1))\n",
    "nan[:] = np.nan\n",
    "# focal_track['pos_index'] = np.vstack([focal_track['pos_index'], nan])"
   ]
  },
  {
   "cell_type": "code",
   "execution_count": 19,
   "metadata": {},
   "outputs": [
    {
     "ename": "ValueError",
     "evalue": "all the input array dimensions for the concatenation axis must match exactly, but along dimension 1, the array at index 0 has size 2745 and the array at index 1 has size 1",
     "output_type": "error",
     "traceback": [
      "\u001b[0;31m---------------------------------------------------------------------------\u001b[0m",
      "\u001b[0;31mValueError\u001b[0m                                Traceback (most recent call last)",
      "\u001b[0;32m<ipython-input-19-8602275d98f2>\u001b[0m in \u001b[0;36m<module>\u001b[0;34m\u001b[0m\n\u001b[0;32m----> 1\u001b[0;31m \u001b[0mx\u001b[0m \u001b[0;34m=\u001b[0m \u001b[0mnp\u001b[0m\u001b[0;34m.\u001b[0m\u001b[0mvstack\u001b[0m\u001b[0;34m(\u001b[0m\u001b[0;34m(\u001b[0m\u001b[0mnm_tracks\u001b[0m\u001b[0;34m[\u001b[0m\u001b[0;36m0\u001b[0m\u001b[0;34m]\u001b[0m\u001b[0;34m[\u001b[0m\u001b[0;34m'pos_index'\u001b[0m\u001b[0;34m]\u001b[0m\u001b[0;34m,\u001b[0m \u001b[0mnan\u001b[0m\u001b[0;34m)\u001b[0m\u001b[0;34m)\u001b[0m\u001b[0;34m\u001b[0m\u001b[0;34m\u001b[0m\u001b[0m\n\u001b[0m\u001b[1;32m      2\u001b[0m \u001b[0;34m\u001b[0m\u001b[0m\n\u001b[1;32m      3\u001b[0m \u001b[0my\u001b[0m \u001b[0;34m=\u001b[0m \u001b[0mnp\u001b[0m\u001b[0;34m.\u001b[0m\u001b[0mvstack\u001b[0m\u001b[0;34m(\u001b[0m\u001b[0;34m(\u001b[0m\u001b[0mx\u001b[0m\u001b[0;34m,\u001b[0m \u001b[0mnan\u001b[0m\u001b[0;34m)\u001b[0m\u001b[0;34m)\u001b[0m\u001b[0;34m\u001b[0m\u001b[0;34m\u001b[0m\u001b[0m\n\u001b[1;32m      4\u001b[0m \u001b[0mprint\u001b[0m\u001b[0;34m(\u001b[0m\u001b[0my\u001b[0m\u001b[0;34m)\u001b[0m\u001b[0;34m\u001b[0m\u001b[0;34m\u001b[0m\u001b[0m\n",
      "\u001b[0;32m<__array_function__ internals>\u001b[0m in \u001b[0;36mvstack\u001b[0;34m(*args, **kwargs)\u001b[0m\n",
      "\u001b[0;32m~/opencv-env/lib/python3.6/site-packages/numpy/core/shape_base.py\u001b[0m in \u001b[0;36mvstack\u001b[0;34m(tup)\u001b[0m\n\u001b[1;32m    281\u001b[0m     \u001b[0;32mif\u001b[0m \u001b[0;32mnot\u001b[0m \u001b[0misinstance\u001b[0m\u001b[0;34m(\u001b[0m\u001b[0marrs\u001b[0m\u001b[0;34m,\u001b[0m \u001b[0mlist\u001b[0m\u001b[0;34m)\u001b[0m\u001b[0;34m:\u001b[0m\u001b[0;34m\u001b[0m\u001b[0;34m\u001b[0m\u001b[0m\n\u001b[1;32m    282\u001b[0m         \u001b[0marrs\u001b[0m \u001b[0;34m=\u001b[0m \u001b[0;34m[\u001b[0m\u001b[0marrs\u001b[0m\u001b[0;34m]\u001b[0m\u001b[0;34m\u001b[0m\u001b[0;34m\u001b[0m\u001b[0m\n\u001b[0;32m--> 283\u001b[0;31m     \u001b[0;32mreturn\u001b[0m \u001b[0m_nx\u001b[0m\u001b[0;34m.\u001b[0m\u001b[0mconcatenate\u001b[0m\u001b[0;34m(\u001b[0m\u001b[0marrs\u001b[0m\u001b[0;34m,\u001b[0m \u001b[0;36m0\u001b[0m\u001b[0;34m)\u001b[0m\u001b[0;34m\u001b[0m\u001b[0;34m\u001b[0m\u001b[0m\n\u001b[0m\u001b[1;32m    284\u001b[0m \u001b[0;34m\u001b[0m\u001b[0m\n\u001b[1;32m    285\u001b[0m \u001b[0;34m\u001b[0m\u001b[0m\n",
      "\u001b[0;32m<__array_function__ internals>\u001b[0m in \u001b[0;36mconcatenate\u001b[0;34m(*args, **kwargs)\u001b[0m\n",
      "\u001b[0;31mValueError\u001b[0m: all the input array dimensions for the concatenation axis must match exactly, but along dimension 1, the array at index 0 has size 2745 and the array at index 1 has size 1"
     ]
    }
   ],
   "source": [
    "x = np.vstack((nm_tracks[0]['pos_index'], nan))\n",
    "\n",
    "y = np.vstack((x, nan))\n",
    "print(y)"
   ]
  },
  {
   "cell_type": "code",
   "execution_count": 18,
   "metadata": {},
   "outputs": [
    {
     "data": {
      "text/plain": [
       "(2745,)"
      ]
     },
     "execution_count": 18,
     "metadata": {},
     "output_type": "execute_result"
    }
   ],
   "source": [
    "nm_tracks[0]['pos_index'].shape"
   ]
  },
  {
   "cell_type": "code",
   "execution_count": null,
   "metadata": {},
   "outputs": [],
   "source": [
    "\n",
    "print('about to draw')\n",
    "cv2.imshow('pic0', im)\n",
    "cv2.waitKey()"
   ]
  },
  {
   "cell_type": "code",
   "execution_count": null,
   "metadata": {},
   "outputs": [],
   "source": [
    "np.vstack([focal_track['pos_index'], nan])"
   ]
  }
 ],
 "metadata": {
  "kernelspec": {
   "display_name": "Python 3",
   "language": "python",
   "name": "python3"
  },
  "language_info": {
   "codemirror_mode": {
    "name": "ipython",
    "version": 3
   },
   "file_extension": ".py",
   "mimetype": "text/x-python",
   "name": "python",
   "nbconvert_exporter": "python",
   "pygments_lexer": "ipython3",
   "version": "3.6.9"
  }
 },
 "nbformat": 4,
 "nbformat_minor": 4
}
