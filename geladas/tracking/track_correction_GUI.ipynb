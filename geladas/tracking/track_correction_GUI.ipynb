{
 "cells": [
  {
   "cell_type": "code",
   "execution_count": 1,
   "metadata": {},
   "outputs": [],
   "source": [
    "import glob\n",
    "import json\n",
    "import os\n",
    "\n",
    "import cv2\n",
    "\n",
    "# local .json file with local path info\n",
    "geladas_root = os.path.dirname(os.getcwd())\n",
    "local_paths_file = os.path.join(geladas_root, 'local-paths.json')\n",
    "with open(local_paths_file, \"r\") as json_file:\n",
    "    local_paths = json.load(json_file)\n",
    "\n",
    "import sys\n",
    "sys.path.append(local_paths['overhead_functions_path'])\n",
    "\n",
    "from TrackCorrectionGUI import TrackCorrectionGUI"
   ]
  },
  {
   "cell_type": "code",
   "execution_count": 2,
   "metadata": {
    "scrolled": true
   },
   "outputs": [],
   "source": [
    "#SETUP\n",
    "\n",
    "# The yellow track is the focal track that is being corrected\n",
    "# The blue track is the other track that might be merged with \n",
    "# the focal track\n",
    "\n",
    "# KEY FUNCTIONS:\n",
    "# next frame = \"]\"\n",
    "# previous frame = \"[\"\n",
    "# advance 3 frames = \";\"\n",
    "# go back 3 frames = \"k\"\n",
    "# advance 30 frames = \"x\"\n",
    "# go back 30 frames = \"z\"\n",
    "# advance 90 frames = \"9\"\n",
    "# go back 90 frames = \"0\"\n",
    "# advance 5000 frames = \"1\"\n",
    "# go back 5000 frames = \"2\"\n",
    "\n",
    "# go to frame at beginning of current possible merge track = \"b\"\n",
    "# go to frame at end of yellow (focal) track = \"g\"\n",
    "# next possible merge track = \"o\"\n",
    "# previous possible merge track = \"l\"\n",
    "# next focal track = \".\" (same button as '>')\n",
    "# previous focal track = \",\" (same button as '<')\n",
    "# add point to focal track = click anywhere on picture\n",
    "# merge focal track with current selected merge track = space bar\n",
    "# permanently remove blue track = \"-\" \n",
    "\n",
    "# split focal track at current frame = \"s\"\n",
    "# split possible merge track at current frame = \"a\"\n",
    "\n",
    "# undo last action = \"u\"\n",
    "# hide tracks (so easier to see frame) = \"h\""
   ]
  },
  {
   "cell_type": "code",
   "execution_count": 6,
   "metadata": {},
   "outputs": [],
   "source": [
    "#THINGS FOR USER TO ADD:\n",
    "#file containing info about the tracks\n",
    "\n",
    "# The tracks file should be a list of dictionaries\n",
    "# Each dictionary contains information about one track\n",
    "# The dictionary must have the key \"track\", \"first_frame\", \"last_frame\"\n",
    "# the key \"track\" returns an numpy array of shape (N, 2) where N is the length of the track in frames\n",
    "# each point in the track is in numpy array indexing so row, column from top left corner of image\n",
    "\n",
    "# The key \"first_frame\" returns the first frame number of the video the track appears\n",
    "# The key \"last_frame\" returns the last frame number of the video that the track appears\n",
    "video_name = \"DJI_0205\"\n",
    "\n",
    "tracks_file = os.path.join(local_paths['base_gelada'], \"processing\", video_name, \n",
    "                           \"tracks-complete.npy\")\n",
    "\n",
    "# Path to frames\n",
    "frames_folder = os.path.join(local_paths['video_folder'], \"frames\", video_name)\n",
    "frame_files = sorted(glob.glob(os.path.join(frames_folder, '*.jpg')))\n",
    " \n",
    "# how much you want to rescale the original frame resolution to display (and fit)on the screen    \n",
    "factor = 0.9"
   ]
  },
  {
   "cell_type": "code",
   "execution_count": 7,
   "metadata": {},
   "outputs": [],
   "source": [
    "import numpy as np"
   ]
  },
  {
   "cell_type": "code",
   "execution_count": null,
   "metadata": {},
   "outputs": [],
   "source": []
  },
  {
   "cell_type": "code",
   "execution_count": 8,
   "metadata": {},
   "outputs": [
    {
     "name": "stdout",
     "output_type": "stream",
     "text": [
      "starting\n",
      "initialized\n",
      "found track\n",
      "drawing_window\n",
      "saved at /mount/zfs-kn/gelada_project/processing/DJI_0205/tracks-complete-0.0.npy\n",
      "saved at /mount/zfs-kn/gelada_project/processing/DJI_0205/tracks-complete-final.npy\n"
     ]
    }
   ],
   "source": [
    "#RUN\n",
    "print('starting')\n",
    "#get good track, draw image on window, set mouse to work\n",
    "window = TrackCorrectionGUI(tracks_file, frame_files, factor, point_scale=1)\n",
    "print('initialized')\n",
    "window.find_next_track()\n",
    "print('found track')\n",
    "window.draw_window()\n",
    "print('drawing_window')\n",
    "cv2.namedWindow('pic0')\n",
    "cv2.setMouseCallback('pic0', window.clicked)\n",
    "\n",
    "#loop to keep image updating\n",
    "while True:\n",
    "    # exit when user presses esc key\n",
    "    key = cv2.waitKey(2) & 0xff\n",
    "    window.detect_keys(key)\n",
    "    if key == 27:\n",
    "        window.save('active')\n",
    "        break\n",
    "cv2.destroyAllWindows()"
   ]
  },
  {
   "cell_type": "code",
   "execution_count": null,
   "metadata": {},
   "outputs": [],
   "source": []
  }
 ],
 "metadata": {
  "kernelspec": {
   "display_name": "Python 3",
   "language": "python",
   "name": "python3"
  },
  "language_info": {
   "codemirror_mode": {
    "name": "ipython",
    "version": 3
   },
   "file_extension": ".py",
   "mimetype": "text/x-python",
   "name": "python",
   "nbconvert_exporter": "python",
   "pygments_lexer": "ipython3",
   "version": "3.6.9"
  }
 },
 "nbformat": 4,
 "nbformat_minor": 4
}
