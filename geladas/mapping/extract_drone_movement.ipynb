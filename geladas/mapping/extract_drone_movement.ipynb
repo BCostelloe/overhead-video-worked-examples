{
 "cells": [
  {
   "cell_type": "code",
   "execution_count": 1,
   "metadata": {},
   "outputs": [
    {
     "name": "stdout",
     "output_type": "stream",
     "text": [
      "Warning: importing 'mapping_funtions.py' without having installed gdal.\n",
      "Will throw error if using functions that require gdal.\n"
     ]
    }
   ],
   "source": [
    "import glob\n",
    "import json\n",
    "import os\n",
    "import time\n",
    "\n",
    "from multiprocessing import Pool\n",
    "import pandas as pd\n",
    "\n",
    "# local .json file with local path info\n",
    "geladas_root = os.path.dirname(os.getcwd())\n",
    "local_paths_file = os.path.join(geladas_root, 'local-paths.json')\n",
    "with open(local_paths_file, \"r\") as json_file:\n",
    "    local_paths = json.load(json_file)\n",
    "\n",
    "import sys\n",
    "sys.path.append(local_paths['overhead_functions_path'])\n",
    "\n",
    "import koger_general_functions as kgf\n",
    "import mapping_functions as kmap\n",
    "from drone_movement import create_gt_segment_dicts, get_segment_drone_movement"
   ]
  },
  {
   "cell_type": "code",
   "execution_count": 2,
   "metadata": {},
   "outputs": [],
   "source": [
    "observation_name = \"DJI_0205\"\n",
    "# Pix4D inserts the name of the Pix4D project in output files\n",
    "pix4d_project_name = \"gelada_worked_example_DJI_0205\""
   ]
  },
  {
   "cell_type": "code",
   "execution_count": 3,
   "metadata": {},
   "outputs": [
    {
     "name": "stdout",
     "output_type": "stream",
     "text": [
      "Warning, /mount/zfs-kn/gelada_project/frames/DJI_0205/worked_examples_drone_movement already exists\n"
     ]
    }
   ],
   "source": [
    "all_segment_dicts = []\n",
    "\n",
    "save_folder_name = \"worked_examples_drone_movement\"\n",
    "\n",
    "# This is where the raw video images are saved \n",
    "frame_folders_root = os.path.join(local_paths['videos_folder'],\n",
    "                                  \"frames\", observation_name)\n",
    "frame_files = sorted(glob.glob(os.path.join(frame_folders_root, \"*.jpg\")))\n",
    "\n",
    "output_folder = os.path.join(frame_folders_root, save_folder_name)\n",
    "\n",
    "pix4d_folder = os.path.join(local_paths['pix4d_folder'], observation_name)\n",
    "pmatrix_file = os.path.join(pix4d_folder, \"1_initial\", \"params\",\n",
    "                            f\"{pix4d_project_name}_pmatrix.txt\") \n",
    "anchor_info_file = os.path.join(pix4d_folder, \"map-images\", \"anchor_frame_info.csv\")\n",
    "anchor_info = kmap.get_cleaned_anchor_info(anchor_info_file, pmatrix_file)\n",
    "\n",
    "segment_dicts = create_gt_segment_dicts(frame_files=frame_files, \n",
    "                                        anchor_info=anchor_info, \n",
    "                                        output_folder=output_folder, \n",
    "                                        save=True)\n",
    "all_segment_dicts.extend(segment_dicts)"
   ]
  },
  {
   "cell_type": "code",
   "execution_count": null,
   "metadata": {},
   "outputs": [],
   "source": []
  },
  {
   "cell_type": "code",
   "execution_count": 5,
   "metadata": {},
   "outputs": [
    {
     "name": "stdout",
     "output_type": "stream",
     "text": [
      "total time: 780.7001404762268\n"
     ]
    }
   ],
   "source": [
    "if __name__ == '__main__':\n",
    "    t0 = time.time()\n",
    "    with Pool(processes=8) as pool:\n",
    "        pool.map(get_segment_drone_movement, all_segment_dicts)\n",
    "    print('total time:', time.time() - t0)"
   ]
  },
  {
   "cell_type": "markdown",
   "metadata": {},
   "source": [
    "### Check resulting drone movement estimates\n",
    "Compare the map locations of tracks in the last frame of an estimated segment to the map locations of tracks in the next anchor frame. If the local drone movement between anchor frames has been fully recovered, these locations should be identical. In practice, they should be low (under a couple meters). If error is too high in a given segment, adittional anchor frames can be added to this part of the observation."
   ]
  },
  {
   "cell_type": "code",
   "execution_count": 11,
   "metadata": {},
   "outputs": [],
   "source": [
    "import gdal\n",
    "import numpy as np"
   ]
  },
  {
   "cell_type": "code",
   "execution_count": 13,
   "metadata": {},
   "outputs": [
    {
     "ename": "FileNotFoundError",
     "evalue": "[Errno 2] No such file or directory: '/home/golden/kenya_drones/processing/kenya-tracking/raw-frames/raw-footage/observation088/localizations/tracks-complete.npy'",
     "output_type": "error",
     "traceback": [
      "\u001b[0;31m---------------------------------------------------------------------------\u001b[0m",
      "\u001b[0;31mFileNotFoundError\u001b[0m                         Traceback (most recent call last)",
      "\u001b[0;32m<ipython-input-13-4a3568bf0336>\u001b[0m in \u001b[0;36m<module>\u001b[0;34m\u001b[0m\n\u001b[1;32m      5\u001b[0m                           \u001b[0mobservation_name\u001b[0m\u001b[0;34m,\u001b[0m \u001b[0;34m\"localizations\"\u001b[0m\u001b[0;34m,\u001b[0m\u001b[0;34m\u001b[0m\u001b[0;34m\u001b[0m\u001b[0m\n\u001b[1;32m      6\u001b[0m                           \"tracks-complete.npy\")\n\u001b[0;32m----> 7\u001b[0;31m \u001b[0mtracks\u001b[0m \u001b[0;34m=\u001b[0m \u001b[0mnp\u001b[0m\u001b[0;34m.\u001b[0m\u001b[0mload\u001b[0m\u001b[0;34m(\u001b[0m\u001b[0mtracks_file\u001b[0m\u001b[0;34m,\u001b[0m \u001b[0mallow_pickle\u001b[0m\u001b[0;34m=\u001b[0m\u001b[0;32mTrue\u001b[0m\u001b[0;34m)\u001b[0m\u001b[0;34m\u001b[0m\u001b[0;34m\u001b[0m\u001b[0m\n\u001b[0m\u001b[1;32m      8\u001b[0m \u001b[0;34m\u001b[0m\u001b[0m\n\u001b[1;32m      9\u001b[0m \u001b[0;31m# -- Outputs from Pix4D -----------------------------------\u001b[0m\u001b[0;34m\u001b[0m\u001b[0;34m\u001b[0m\u001b[0;34m\u001b[0m\u001b[0m\n",
      "\u001b[0;32m~/coding-py36/lib/python3.6/site-packages/numpy/lib/npyio.py\u001b[0m in \u001b[0;36mload\u001b[0;34m(file, mmap_mode, allow_pickle, fix_imports, encoding)\u001b[0m\n\u001b[1;32m    414\u001b[0m             \u001b[0mown_fid\u001b[0m \u001b[0;34m=\u001b[0m \u001b[0;32mFalse\u001b[0m\u001b[0;34m\u001b[0m\u001b[0;34m\u001b[0m\u001b[0m\n\u001b[1;32m    415\u001b[0m         \u001b[0;32melse\u001b[0m\u001b[0;34m:\u001b[0m\u001b[0;34m\u001b[0m\u001b[0;34m\u001b[0m\u001b[0m\n\u001b[0;32m--> 416\u001b[0;31m             \u001b[0mfid\u001b[0m \u001b[0;34m=\u001b[0m \u001b[0mstack\u001b[0m\u001b[0;34m.\u001b[0m\u001b[0menter_context\u001b[0m\u001b[0;34m(\u001b[0m\u001b[0mopen\u001b[0m\u001b[0;34m(\u001b[0m\u001b[0mos_fspath\u001b[0m\u001b[0;34m(\u001b[0m\u001b[0mfile\u001b[0m\u001b[0;34m)\u001b[0m\u001b[0;34m,\u001b[0m \u001b[0;34m\"rb\"\u001b[0m\u001b[0;34m)\u001b[0m\u001b[0;34m)\u001b[0m\u001b[0;34m\u001b[0m\u001b[0;34m\u001b[0m\u001b[0m\n\u001b[0m\u001b[1;32m    417\u001b[0m             \u001b[0mown_fid\u001b[0m \u001b[0;34m=\u001b[0m \u001b[0;32mTrue\u001b[0m\u001b[0;34m\u001b[0m\u001b[0;34m\u001b[0m\u001b[0m\n\u001b[1;32m    418\u001b[0m \u001b[0;34m\u001b[0m\u001b[0m\n",
      "\u001b[0;31mFileNotFoundError\u001b[0m: [Errno 2] No such file or directory: '/home/golden/kenya_drones/processing/kenya-tracking/raw-frames/raw-footage/observation088/localizations/tracks-complete.npy'"
     ]
    }
   ],
   "source": [
    "# Load extra animal track and map files for validation\n",
    "\n",
    "# -- Previously processed animal trajectories in video space ----\n",
    "tracks_file = os.path.join(local_paths['base_frames_folder'],\n",
    "                          observation_name, \"localizations\",\n",
    "                          \"tracks-complete.npy\")\n",
    "tracks = np.load(tracks_file, allow_pickle=True)\n",
    "\n",
    "# -- Outputs from Pix4D -----------------------------------\n",
    "offset_file = os.path.join(pix4d_folder, \"1_initial\", \"params\",\n",
    "                            f\"worked_examples_{observation_name}_offset.xyz\") \n",
    "offset = kmap.load_map_offset(offset_file)\n",
    "\n",
    "geotif_dsm_file =  os.path.join(map_folder, \"3_dsm_ortho\", \"1_dsm\",\n",
    "                                f\"worked_examples_{observation_name}_dsm.tif\")\n",
    "dsm_gtif = gdal.Open(geotif_dsm_file)\n",
    "# For converting between utm and raster coordinates\n",
    "dsm_transform = dsm_gtif.GetGeoTransform()\n",
    "x_origin = dsm_transform[0]\n",
    "y_origin = dsm_transform[3]\n",
    "pixel_width = dsm_transform[1]\n",
    "pixel_height = dsm_transform[5]\n",
    "\n",
    "geotif_dtm_file =  os.path.join(map_folder, \"3_dsm_ortho\", \n",
    "                                \"extras\", \"dtm\", \n",
    "                                f\"worked_examples_{observation_name}_dtm.tif\")\n",
    "dtm_gtif = gdal.Open(geotif_dtm_file)\n",
    "dtm = dtm_gtif.GetRasterBand(1).ReadAsArray()\n",
    "dtm = kmap.fill_with_min(dtm)\n",
    "elevation_r = cv2.resize(dtm, \n",
    "                        (dsm_gtif.RasterXSize, dsm_gtif.RasterYSize), \n",
    "                        interpolation=cv2.INTER_CUBIC)\n",
    "\n",
    "# -- Just calculated drone movement info --------------------\n",
    "glob_string = os.path.join(output_folder, \"drone_movement_segment_*.npy\")\n",
    "segment_movement_files = sorted(glob.glob(glob_string))                                   \n",
    "segment_movements = [np.load(file) for file in segment_movement_files]\n",
    "\n",
    "glob_string = os.path.join(output_folder, \"inliers_segment_*.npy\")\n",
    "segment_inlier_files = sorted(glob.glob(segment_inlier_string))\n",
    "segment_inliers = [np.load(file) for file in segment_inlier_files] \n",
    "                                                          \n",
    "# -- Miscellaneous ------------------------------------------\n",
    "groundtruth_obs_indexes, _ = kmap.get_groundtruth_obs_indexes(flight_logs, \n",
    "                                                              frame_folders_root)\n",
    "\n",
    "demo_frame_name = list(flight_logs[0].loc[flight_logs[0]['used_in_map'], 'image_name'])[0]\n",
    "demo_frame_file = os.path.join(frame_folders_root, \n",
    "                               '_'.join(demo_frame_name.split('_')[:-1]), # was 5 from drone_movement_test \n",
    "                               demo_frame_name)\n",
    "demo_frame = plt.imread(demo_frame_file)"
   ]
  },
  {
   "cell_type": "code",
   "execution_count": null,
   "metadata": {},
   "outputs": [],
   "source": []
  },
  {
   "cell_type": "code",
   "execution_count": null,
   "metadata": {},
   "outputs": [],
   "source": []
  },
  {
   "cell_type": "code",
   "execution_count": null,
   "metadata": {},
   "outputs": [],
   "source": []
  },
  {
   "cell_type": "code",
   "execution_count": null,
   "metadata": {},
   "outputs": [],
   "source": []
  },
  {
   "cell_type": "code",
   "execution_count": null,
   "metadata": {},
   "outputs": [],
   "source": []
  },
  {
   "cell_type": "code",
   "execution_count": null,
   "metadata": {},
   "outputs": [],
   "source": []
  },
  {
   "cell_type": "code",
   "execution_count": null,
   "metadata": {},
   "outputs": [],
   "source": []
  }
 ],
 "metadata": {
  "kernelspec": {
   "display_name": "Python 3",
   "language": "python",
   "name": "python3"
  },
  "language_info": {
   "codemirror_mode": {
    "name": "ipython",
    "version": 3
   },
   "file_extension": ".py",
   "mimetype": "text/x-python",
   "name": "python",
   "nbconvert_exporter": "python",
   "pygments_lexer": "ipython3",
   "version": "3.6.9"
  }
 },
 "nbformat": 4,
 "nbformat_minor": 4
}
