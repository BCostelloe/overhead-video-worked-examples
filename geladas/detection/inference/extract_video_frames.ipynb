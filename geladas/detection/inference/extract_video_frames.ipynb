{
 "cells": [
  {
   "cell_type": "markdown",
   "metadata": {},
   "source": [
    "### Extract frames from videos"
   ]
  },
  {
   "cell_type": "code",
   "execution_count": 1,
   "metadata": {},
   "outputs": [],
   "source": [
    "import os\n",
    "import glob\n",
    "import time\n",
    "\n",
    "import cv2\n",
    "from imutils.video import FileVideoStream\n",
    "import json\n",
    "import numpy as np\n",
    "\n",
    "geladas_root = os.path.dirname(os.path.dirname(os.getcwd()))\n",
    "local_paths_file = os.path.join(geladas_root, 'local-paths.json')\n",
    "with open(local_paths_file, \"r\") as json_file:\n",
    "    local_paths = json.load(json_file)"
   ]
  },
  {
   "cell_type": "code",
   "execution_count": null,
   "metadata": {},
   "outputs": [],
   "source": [
    "base_folder = local_paths[\"videos_folder\"]\n",
    "videos = sorted(glob.glob(os.path.join(base_folder, \"DJI_0205.MP4\")))\n",
    "                \n",
    "video = videos[0]\n",
    "\n",
    "num_frames = 0\n",
    "\n",
    "print(\"[INFO] starting video file thread...\")\n",
    "fvs = FileVideoStream(video).start()\n",
    "time.sleep(1.0)\n",
    "\n",
    "start_time = time.time()         \n",
    "video_name = os.path.basename(video).split('.')[0]\n",
    "\n",
    "output_folder = os.path.join(base_folder, \"frames\", video_name)\n",
    "os.makedirs(output_folder, exist_ok=True)\n",
    "    \n",
    "while fvs.more():\n",
    "    frame = fvs.read()\n",
    "    outfile = os.path.join(output_folder, \n",
    "                           f\"{video_name}_{num_frames:06d}.jpg\")\n",
    "    if frame:\n",
    "        cv2.imwrite(outfile, frame)\n",
    "    else:\n",
    "        break\n",
    "    \n",
    "    if num_frames % 1000 == 0:\n",
    "        print(f\"{num_frames} processed, {np.any(frame)}\")\n",
    "    num_frames += 1\n",
    "\n",
    "total_time = time.time() - start_time\n",
    "print(\"Total time: {:.2f}s\".format(total_time))\n",
    "print(f\"fps: {max_ims / total_time}\")"
   ]
  },
  {
   "cell_type": "code",
   "execution_count": null,
   "metadata": {},
   "outputs": [],
   "source": []
  }
 ],
 "metadata": {
  "kernelspec": {
   "display_name": "Python 3",
   "language": "python",
   "name": "python3"
  },
  "language_info": {
   "codemirror_mode": {
    "name": "ipython",
    "version": 3
   },
   "file_extension": ".py",
   "mimetype": "text/x-python",
   "name": "python",
   "nbconvert_exporter": "python",
   "pygments_lexer": "ipython3",
   "version": "3.6.9"
  }
 },
 "nbformat": 4,
 "nbformat_minor": 5
}
