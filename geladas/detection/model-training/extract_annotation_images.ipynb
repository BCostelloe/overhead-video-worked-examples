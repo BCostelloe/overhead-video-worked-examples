{
 "cells": [
  {
   "cell_type": "markdown",
   "metadata": {},
   "source": [
    "### After videos used for annotation have been split into train, val, and test sets this notebook extracts specific frames (or crops of frames) for annotation\n",
    "#### User specifies number of frames, size of crops, and if crops should be more likely to come from center of image"
   ]
  },
  {
   "cell_type": "code",
   "execution_count": 7,
   "metadata": {},
   "outputs": [
    {
     "name": "stdout",
     "output_type": "stream",
     "text": [
      "/home/golden/overhead-video-worked-examples/geladas/local-paths.json\n"
     ]
    }
   ],
   "source": [
    "import os\n",
    "import glob\n",
    "import json\n",
    "import cv2\n",
    "import numpy as np\n",
    "\n",
    "\n",
    "geladas_root = os.path.dirname(os.path.dirname(os.getcwd()))\n",
    "local_paths_file = os.path.join(geladas_root, 'local-paths.json')\n",
    "print(local_paths_file)\n",
    "with open(local_paths_file, \"r\") as json_file:\n",
    "    local_paths = json.load(json_file)\n",
    "\n",
    "import sys\n",
    "sys.path.append(local_paths['general_dection_path'])\n",
    "from augmentation.augmentation import random_top_left \n",
    "from functions.video_processing import save_frame"
   ]
  },
  {
   "cell_type": "code",
   "execution_count": 2,
   "metadata": {},
   "outputs": [],
   "source": [
    "import json\n",
    "\n",
    "# This file records which raw video files should be used for \n",
    "# training, validation, and testing\n",
    "# Format of .json is:\n",
    "# {\"train\": [\"file1.mp4\", \"file2.mp4\"], \n",
    "#  \"val\": [\"file3.mp4\", \"file4.mp4\"],\n",
    "#  \"test\": [\"file5.mp4\", \"file6.mp4\"]\n",
    "# }\n",
    "json_file = \"video_train_val_test_split.json\"\n",
    "with open(json_file) as f:\n",
    "    video_splits = json.load(f)"
   ]
  },
  {
   "cell_type": "code",
   "execution_count": 7,
   "metadata": {},
   "outputs": [],
   "source": [
    "# Path to main folder within which images will be saved\n",
    "annotations_folder = os.path.join(local_path['annotations_folder'],\n",
    "                                  \"extracted_frames\", \"crops\")\n",
    "os.makedirs(annotations_folder, exist_ok=True)\n",
    "# Path to folder where videos are saved\n",
    "video_folder_path = local_path['videos_folder']\n",
    "\n",
    "# Which type of videos to extract from based on naming in our saved .json file\n",
    "# this could be \"train\", \"validation\", or \"test\"\n",
    "video_type = \"validation\"\n",
    "\n",
    "# list of video names to use\n",
    "video_names = video_splits[video_type]\n",
    "\n",
    "save_folder = os.path.join(annotations_folder, video_type)\n",
    "# setting min and max frames can be used if part of video will go in the training set\n",
    "# and part of the video will go in the validation set\n",
    "min_frame = 0 # begining of range frames could be extracted from\n",
    "max_frame = None # end of range (exclusive) frames could be extracted from (\n",
    "                 # set to \"None\" if range should extend through last frame)\n",
    "num_extract = 3 # number of frames to extract and save\n",
    "save_triplet = True # If True, for each frame should save a frame a little before \n",
    "                    # and a little after focal frame (Can be helpful when \n",
    "                    # movement helps find cryptic individuals)\n",
    "triplet_spacing = 30 # How many frames in future and past to space outer \n",
    "                     # triplet frames around focal frame (ignored if \n",
    "                    # save_triplet is False)\n",
    "crop_size = 1000 # Either none for whole image or size in pixels (square crops)"
   ]
  },
  {
   "cell_type": "code",
   "execution_count": 8,
   "metadata": {},
   "outputs": [],
   "source": [
    "for video_name in video_names:\n",
    "    video_file = os.path.join(video_folder_path, video_name)\n",
    "    video_name = os.path.splitext(video_name)[0] # remove extension\n",
    "\n",
    "    cap = cv2.VideoCapture(video_file)\n",
    "    width  = int(cap.get(cv2.CAP_PROP_FRAME_WIDTH))\n",
    "    height = int(cap.get(cv2.CAP_PROP_FRAME_HEIGHT))\n",
    "    if max_frame is None:\n",
    "        max_frame = int(cap.get(cv2.CAP_PROP_FRAME_COUNT)) + 1\n",
    "    if save_triplet:\n",
    "        # Only choose frames for annotation that have space before and after\n",
    "        # for all frames in triplet\n",
    "        max_frame -= triplet_spacing\n",
    "        min_frame += triplet_spacing\n",
    "    # Randomly choose the specified number of frames to extract from the given range\n",
    "    frame_nums_to_save = np.random.randint(min_frame, max_frame, num_extract)\n",
    "    for frame_num in frame_nums_to_save:\n",
    "        frame_file = os.path.join(save_folder, f\"{video_name}_frame_{frame_num}\")\n",
    "        if crop_size:\n",
    "            # If gaussian is True, then random crops sampled from gaussian \n",
    "            # centered at center of frame with 1 std equal to half height/width \n",
    "            # of the frame\n",
    "            top_left = random_top_left([height, width], crop_size, gaussian=True)\n",
    "            # Add where crop comes from to file name so we can find it in the \n",
    "            # original image later if we want to\n",
    "            frame_file += f\"_top_{top_left[0]}_left_{top_left[1]}\"\n",
    "        # Naming convention here is to append an 'f' if the focal frame that will\n",
    "        # be annotated and a 'a' or 'b' if the first or last frame in a triplet\n",
    "        save_frame(cap, frame_num, frame_file+\"_f.jpg\", crop_size, top_left)\n",
    "        if save_triplet:\n",
    "            next_frame_num = frame_num + triplet_spacing\n",
    "            frame_file = os.path.join(save_folder, f\"{video_name}_frame_{frame_num}\")\n",
    "            if crop_size:\n",
    "                frame_file += f\"_top_{top_left[0]}_left_{top_left[1]}\"\n",
    "            save_frame(cap, next_frame_num, frame_file+\"_a.jpg\", \n",
    "                       crop_size, top_left\n",
    "                      )\n",
    "            prev_frame_num = frame_num - triplet_spacing \n",
    "            frame_file = os.path.join(save_folder, f\"{video_name}_frame_{frame_num}\")\n",
    "            if crop_size:\n",
    "                frame_file += f\"_top_{top_left[0]}_left_{top_left[1]}\"\n",
    "            save_frame(cap, prev_frame_num, frame_file+\"_b.jpg\",\n",
    "                       crop_size, top_left\n",
    "                      )\n",
    "    cap.release()"
   ]
  },
  {
   "cell_type": "code",
   "execution_count": null,
   "metadata": {},
   "outputs": [],
   "source": []
  },
  {
   "cell_type": "code",
   "execution_count": null,
   "metadata": {},
   "outputs": [],
   "source": []
  },
  {
   "cell_type": "code",
   "execution_count": null,
   "metadata": {},
   "outputs": [],
   "source": []
  }
 ],
 "metadata": {
  "kernelspec": {
   "display_name": "Python 3",
   "language": "python",
   "name": "python3"
  },
  "language_info": {
   "codemirror_mode": {
    "name": "ipython",
    "version": 3
   },
   "file_extension": ".py",
   "mimetype": "text/x-python",
   "name": "python",
   "nbconvert_exporter": "python",
   "pygments_lexer": "ipython3",
   "version": "3.6.9"
  }
 },
 "nbformat": 4,
 "nbformat_minor": 5
}
