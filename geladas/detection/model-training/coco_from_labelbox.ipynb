{
 "cells": [
  {
   "cell_type": "markdown",
   "metadata": {},
   "source": [
    "### This notebook takes export annotation files from labelbox and locally saves the corresponding images and corresponding coco.json file\n",
    "#### Also allows visualization of the resulting annotations"
   ]
  },
  {
   "cell_type": "code",
   "execution_count": 2,
   "metadata": {},
   "outputs": [],
   "source": [
    "import os\n",
    "import sys\n",
    "import json\n",
    "\n",
    "geladas_root = os.path.dirname(os.path.dirname(os.getcwd()))\n",
    "local_paths_file = os.path.join(geladas_root, 'local-paths.json')\n",
    "with open(paths_file, \"r\") as json_file:\n",
    "    local_paths = json.load(json_file)\n",
    "\n",
    "sys.path.append(local_paths['general_dection_path'])\n",
    "from functions.labelbox_processing import labelbox_to_coco\n",
    "from functions.json_functions import create_train_val_split"
   ]
  },
  {
   "cell_type": "code",
   "execution_count": 4,
   "metadata": {},
   "outputs": [],
   "source": [
    "# Path to where annotated images should be saved\n",
    "images_save_folder = os.path.join(local_paths['annotations_folder'], \n",
    "                                  \"annotated_images\")\n",
    "# Path to where annotation cocojson file should be saved\n",
    "coco_json_folder = local_paths['annotations_folder']\n",
    "# name of the exported file from labelbox\n",
    "labelbox_json_name = \"export-2022-01-05T15_54_50.050Z-test.json\"\n",
    "labelbox_json_file =  os.path.join(local_paths['labelbox_folder'], \n",
    "                                   labelbox_json_name)"
   ]
  },
  {
   "cell_type": "code",
   "execution_count": 12,
   "metadata": {},
   "outputs": [],
   "source": [
    "# Info to include in the coco annotation file being created\n",
    "dataset_description = \"gelada dataset\"\n",
    "dataset_date = \"Jan.05.2021\"\n",
    "\n",
    "# The name of the created json file will be based on the name of labelbox file\n",
    "coco_json_name = f\"coco_{os.path.basename(labelbox_json_file)}\"\n",
    "coco_json_file = os.path.join(coco_json_folder, coco_json_name)"
   ]
  },
  {
   "cell_type": "code",
   "execution_count": 13,
   "metadata": {},
   "outputs": [
    {
     "name": "stdout",
     "output_type": "stream",
     "text": [
      "1 gelada\n",
      "2 human\n",
      "192 annotations from 16 images saved.\n"
     ]
    }
   ],
   "source": [
    "# Save the images and created coco format json file that corresponds to the\n",
    "# labelbox.json file being used\n",
    "labelbox_to_coco(labelbox_json_file, \n",
    "                 coco_json_file,\n",
    "                 images_save_folder, \n",
    "                 description=dataset_description, \n",
    "                 date=dataset_date,\n",
    "                 overwrite=False, \n",
    "                 verbose=True\n",
    "                )   "
   ]
  },
  {
   "cell_type": "markdown",
   "metadata": {},
   "source": [
    "### Code below can be used to visualize saved annotations"
   ]
  },
  {
   "cell_type": "code",
   "execution_count": 1,
   "metadata": {},
   "outputs": [],
   "source": [
    "import cv2\n",
    "import matplotlib.pyplot as plt\n",
    "\n",
    "from detectron2.data.datasets import register_coco_instances\n",
    "from detectron2.data import MetadataCatalog, DatasetCatalog\n",
    "from detectron2.utils.visualizer import Visualizer"
   ]
  },
  {
   "cell_type": "code",
   "execution_count": 4,
   "metadata": {},
   "outputs": [],
   "source": [
    "register_coco_instances(\"visualize\", {}, \n",
    "                        coco_json_file, \n",
    "                        images_save_folder\n",
    "                       )\n",
    "data_metadata = MetadataCatalog.get(\"visualize\")\n",
    "data_dicts = DatasetCatalog.get(\"visualize\")"
   ]
  },
  {
   "cell_type": "code",
   "execution_count": 5,
   "metadata": {},
   "outputs": [],
   "source": [
    "for d in data_dicts[:2]:\n",
    "    img = cv2.imread(d[\"file_name\"])\n",
    "    plt.figure(figsize=(10, 10))\n",
    "    plt.imshow(img[..., ::-1])\n",
    "    visualizer = Visualizer(img[:, :, ::-1], \n",
    "                            metadata=data_metadata, \n",
    "                            scale=1.0\n",
    "                           )\n",
    "    vis = visualizer.draw_dataset_dict(d)\n",
    "    plt.figure(figsize=(10, 10))\n",
    "    plt.imshow(vis.get_image())"
   ]
  },
  {
   "cell_type": "code",
   "execution_count": null,
   "metadata": {},
   "outputs": [],
   "source": []
  }
 ],
 "metadata": {
  "kernelspec": {
   "display_name": "Python 3",
   "language": "python",
   "name": "python3"
  },
  "language_info": {
   "codemirror_mode": {
    "name": "ipython",
    "version": 3
   },
   "file_extension": ".py",
   "mimetype": "text/x-python",
   "name": "python",
   "nbconvert_exporter": "python",
   "pygments_lexer": "ipython3",
   "version": "3.6.9"
  }
 },
 "nbformat": 4,
 "nbformat_minor": 4
}
