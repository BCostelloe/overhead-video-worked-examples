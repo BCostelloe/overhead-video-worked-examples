{
 "cells": [
  {
   "cell_type": "markdown",
   "metadata": {},
   "source": [
    "### Combine multiple coco json type files"
   ]
  },
  {
   "cell_type": "code",
   "execution_count": 2,
   "metadata": {},
   "outputs": [],
   "source": [
    "import os\n",
    "import sys\n",
    "import json\n",
    "\n",
    "# local .json file with local path info\n",
    "geladas_root = os.path.dirname(os.path.dirname(os.getcwd()))\n",
    "local_paths_file = os.path.join(geladas_root, 'local-paths.json')\n",
    "with open(local_paths_file, \"r\") as json_file:\n",
    "    local_paths = json.load(json_file)\n",
    "\n",
    "sys.path.append(local_paths[\"general_dection_path\"])\n",
    "\n",
    "from functions.json_functions import combine_jsons"
   ]
  },
  {
   "cell_type": "code",
   "execution_count": null,
   "metadata": {},
   "outputs": [],
   "source": []
  },
  {
   "cell_type": "code",
   "execution_count": 4,
   "metadata": {},
   "outputs": [
    {
     "name": "stdout",
     "output_type": "stream",
     "text": [
      "There are 69 annotated images in the JSON files.\n",
      "69 images added to new .json\n",
      "2089 annotations added to new .json\n"
     ]
    }
   ],
   "source": [
    "json_folder = local_paths[\"annotations_folder\"]\n",
    "\n",
    "json_filenames = [\"coco_export-2022-01-05T15_53_24.697Z-training.json\",\n",
    "                  \"coco_export-2022-01-06T14_28_01.837Z-original_annotations.json\"]\n",
    "\n",
    "json_files = [os.path.join(json_folder, f) for f in json_filenames]\n",
    "\n",
    "out_file = os.path.join(json_folder, 'train.json')\n",
    "combine_jsons(json_files, out_file)"
   ]
  },
  {
   "cell_type": "code",
   "execution_count": null,
   "metadata": {},
   "outputs": [],
   "source": []
  }
 ],
 "metadata": {
  "kernelspec": {
   "display_name": "Python 3",
   "language": "python",
   "name": "python3"
  },
  "language_info": {
   "codemirror_mode": {
    "name": "ipython",
    "version": 3
   },
   "file_extension": ".py",
   "mimetype": "text/x-python",
   "name": "python",
   "nbconvert_exporter": "python",
   "pygments_lexer": "ipython3",
   "version": "3.6.9"
  }
 },
 "nbformat": 4,
 "nbformat_minor": 4
}
