{
 "cells": [
  {
   "cell_type": "code",
   "execution_count": 13,
   "metadata": {},
   "outputs": [],
   "source": [
    "import os\n",
    "import random\n",
    "\n",
    "import cv2\n",
    "import json\n",
    "import matplotlib.pyplot as plt\n",
    "import numpy as np\n",
    "from tabulate import tabulate\n",
    "import yaml\n",
    "\n",
    "import detectron2\n",
    "from detectron2.utils.visualizer import Visualizer\n",
    "from detectron2.data import MetadataCatalog, DatasetCatalog\n",
    "from detectron2.data.datasets import register_coco_instances\n",
    "\n",
    "geladas_root = os.path.dirname(os.path.dirname(os.getcwd()))\n",
    "local_paths_file = os.path.join(geladas_root, 'local-paths.json')\n",
    "with open(local_paths_file, \"r\") as json_file:\n",
    "    local_paths = json.load(json_file)\n",
    "\n",
    "import sys\n",
    "sys.path.append(local_paths[\"overhead_functions_path\"])\n",
    "from print_instances_class_histogram import print_instances_class_histogram"
   ]
  },
  {
   "cell_type": "code",
   "execution_count": 2,
   "metadata": {},
   "outputs": [],
   "source": [
    "base_folder = local_paths[\"annotations_folder\"]\n",
    "images_folder = os.path.join(base_folder, \"annotated_images\")"
   ]
  },
  {
   "cell_type": "code",
   "execution_count": 3,
   "metadata": {},
   "outputs": [],
   "source": [
    "train_json = os.path.join(base_folder, 'train_males.json') "
   ]
  },
  {
   "cell_type": "code",
   "execution_count": 4,
   "metadata": {},
   "outputs": [
    {
     "name": "stdout",
     "output_type": "stream",
     "text": [
      "69 training images \n",
      " 22 validation images \n",
      " 16 test images\n"
     ]
    }
   ],
   "source": [
    "train_json = os.path.join(base_folder, 'train_males.json') \n",
    "val_json = os.path.join(base_folder, \"random_val_males.json\")\n",
    "\n",
    "test_json = os.path.join(base_folder, 'coco_males_export-2022-01-05T15_54_50.050Z-test.json')\n",
    "\n",
    "register_coco_instances(\"train\", {}, train_json, images_folder)\n",
    "register_coco_instances(\"val\", {}, val_json, images_folder)\n",
    "register_coco_instances(\"test\", {}, test_json, images_folder)\n",
    "\n",
    "train_dicts = DatasetCatalog.get(\"train\")\n",
    "val_dicts = DatasetCatalog.get(\"val\")\n",
    "test_dicts = DatasetCatalog.get(\"test\")\n",
    "\n",
    "num_train_images = len(train_dicts)\n",
    "num_val_images = len(val_dicts)\n",
    "num_test_images = len(test_dicts)\n",
    "print(f\"{num_train_images} training images \\n\",\n",
    "      f\"{num_val_images} validation images \\n\",\n",
    "      f\"{num_test_images} test images\")"
   ]
  },
  {
   "cell_type": "code",
   "execution_count": 5,
   "metadata": {},
   "outputs": [],
   "source": [
    "train_metadata = MetadataCatalog.get(\"train\")\n",
    "train_dicts = DatasetCatalog.get(\"train\")\n",
    "val_dicts = DatasetCatalog.get(\"val\")\n",
    "test_dicts = DatasetCatalog.get(\"test\")"
   ]
  },
  {
   "cell_type": "code",
   "execution_count": null,
   "metadata": {},
   "outputs": [],
   "source": []
  },
  {
   "cell_type": "code",
   "execution_count": 8,
   "metadata": {},
   "outputs": [
    {
     "name": "stdout",
     "output_type": "stream",
     "text": [
      "\n",
      "Train frames:\n",
      "|  category  | #instances   |  category  | #instances   |  category  | #instances   |\n",
      "|:----------:|:-------------|:----------:|:-------------|:----------:|:-------------|\n",
      "| adult_male | 55           |   gelada   | 65           |   human    | 17           |\n",
      "|            |              |            |              |            |              |\n",
      "|   total    | 137          |            |              |            |              |\n",
      "\n",
      "Train annotations:\n",
      "|  category  | #instances   |  category  | #instances   |  category  | #instances   |\n",
      "|:----------:|:-------------|:----------:|:-------------|:----------:|:-------------|\n",
      "| adult_male | 239          |   gelada   | 1821         |   human    | 29           |\n",
      "|            |              |            |              |            |              |\n",
      "|   total    | 2089         |            |              |            |              |\n",
      "\n",
      "Validation frames:\n",
      "|  category  | #instances   |  category  | #instances   |  category  | #instances   |\n",
      "|:----------:|:-------------|:----------:|:-------------|:----------:|:-------------|\n",
      "| adult_male | 18           |   gelada   | 21           |   human    | 4            |\n",
      "|            |              |            |              |            |              |\n",
      "|   total    | 43           |            |              |            |              |\n",
      "\n",
      "Validation annotations:\n",
      "|  category  | #instances   |  category  | #instances   |  category  | #instances   |\n",
      "|:----------:|:-------------|:----------:|:-------------|:----------:|:-------------|\n",
      "| adult_male | 55           |   gelada   | 416          |   human    | 7            |\n",
      "|            |              |            |              |            |              |\n",
      "|   total    | 478          |            |              |            |              |\n",
      "\n",
      "Test frames:\n",
      "|  category  | #instances   |  category  | #instances   |  category  | #instances   |\n",
      "|:----------:|:-------------|:----------:|:-------------|:----------:|:-------------|\n",
      "| adult_male | 11           |   gelada   | 16           |   human    | 7            |\n",
      "|            |              |            |              |            |              |\n",
      "|   total    | 34           |            |              |            |              |\n",
      "\n",
      "Test annotations:\n",
      "|  category  | #instances   |  category  | #instances   |  category  | #instances   |\n",
      "|:----------:|:-------------|:----------:|:-------------|:----------:|:-------------|\n",
      "| adult_male | 25           |   gelada   | 160          |   human    | 7            |\n",
      "|            |              |            |              |            |              |\n",
      "|   total    | 192          |            |              |            |              |\n"
     ]
    }
   ],
   "source": [
    "print(\"\\nTrain frames:\")\n",
    "print_instances_class_histogram(train_dicts, train_metadata.get(\"thing_classes\"), num_frames=True)\n",
    "print(\"\\nTrain annotations:\")\n",
    "print_instances_class_histogram(train_dicts, train_metadata.get(\"thing_classes\"), num_frames=False)\n",
    "print(\"\\nValidation frames:\")\n",
    "print_instances_class_histogram(val_dicts, train_metadata.get(\"thing_classes\"), num_frames=True)\n",
    "print(\"\\nValidation annotations:\")\n",
    "print_instances_class_histogram(val_dicts, train_metadata.get(\"thing_classes\"), num_frames=False)\n",
    "print(\"\\nTest frames:\")\n",
    "print_instances_class_histogram(test_dicts, train_metadata.get(\"thing_classes\"), num_frames=True)\n",
    "print(\"\\nTest annotations:\")\n",
    "print_instances_class_histogram(test_dicts, train_metadata.get(\"thing_classes\"), num_frames=False)"
   ]
  },
  {
   "cell_type": "code",
   "execution_count": null,
   "metadata": {},
   "outputs": [],
   "source": []
  },
  {
   "cell_type": "code",
   "execution_count": 12,
   "metadata": {},
   "outputs": [
    {
     "name": "stdout",
     "output_type": "stream",
     "text": [
      "adult_male: mean: 772.12 lowwer_quartile: 600.0 upper_quartile: 775.0 num annotations: 25\n",
      "gelada: mean: 368.3 lowwer_quartile: 272.0 upper_quartile: 432.0 num annotations: 160\n",
      "human: mean: 929.1428571428571 lowwer_quartile: 797.5 upper_quartile: 1016.5 num annotations: 7\n"
     ]
    },
    {
     "data": {
      "image/png": "[encoded data removed]",
      "text/plain": [
       "<Figure size 432x288 with 1 Axes>"
      ]
     },
     "metadata": {
      "needs_background": "light"
     },
     "output_type": "display_data"
    },
    {
     "data": {
      "image/png": "[encoded data removed]",
      "text/plain": [
       "<Figure size 432x288 with 1 Axes>"
      ]
     },
     "metadata": {
      "needs_background": "light"
     },
     "output_type": "display_data"
    },
    {
     "data": {
      "image/png": "[encoded data removed]",
      "text/plain": [
       "<Figure size 432x288 with 1 Axes>"
      ]
     },
     "metadata": {
      "needs_background": "light"
     },
     "output_type": "display_data"
    }
   ],
   "source": [
    "dataset_dicts = test_dicts\n",
    "class_names = train_metadata.get(\"thing_classes\")\n",
    "\n",
    "object_sizes = {c_ind: [] for c_ind, c in enumerate(class_names)}\n",
    "\n",
    "for entry in dataset_dicts:\n",
    "    annotations = entry[\"annotations\"]\n",
    "    for annotation in annotations:\n",
    "        if annotation.get(\"iscrowd\", 0):\n",
    "            continue\n",
    "            \n",
    "        obj_class = annotation['category_id']\n",
    "        bbox = annotation['bbox']\n",
    "        bbox_area = bbox[2] * bbox[3]\n",
    "        object_sizes[obj_class].append(bbox_area)\n",
    "\n",
    "for obj_name, sizes in zip(class_names, object_sizes.values()):\n",
    "    sizes = np.array(sizes)\n",
    "    plt.figure()\n",
    "    plt.hist(sizes)\n",
    "    plt.title(obj_name)\n",
    "    print(f\"{obj_name}: mean: {np.mean(sizes)}\", \n",
    "          f\"lowwer_quartile: {np.percentile(sizes, 25)}\",\n",
    "          f\"upper_quartile: {np.percentile(sizes, 75)}\",\n",
    "          f\"num annotations: {len(sizes)}\")"
   ]
  },
  {
   "cell_type": "code",
   "execution_count": null,
   "metadata": {},
   "outputs": [],
   "source": []
  }
 ],
 "metadata": {
  "kernelspec": {
   "display_name": "Python 3",
   "language": "python",
   "name": "python3"
  },
  "language_info": {
   "codemirror_mode": {
    "name": "ipython",
    "version": 3
   },
   "file_extension": ".py",
   "mimetype": "text/x-python",
   "name": "python",
   "nbconvert_exporter": "python",
   "pygments_lexer": "ipython3",
   "version": "3.6.9"
  }
 },
 "nbformat": 4,
 "nbformat_minor": 4
}
