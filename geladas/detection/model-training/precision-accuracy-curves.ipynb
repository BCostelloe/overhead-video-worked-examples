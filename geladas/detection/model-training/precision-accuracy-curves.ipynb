{
 "cells": [
  {
   "cell_type": "code",
   "execution_count": 1,
   "metadata": {},
   "outputs": [],
   "source": [
    "import torch \n",
    "import detectron2\n",
    "\n",
    "import numpy as np\n",
    "import random\n",
    "import glob\n",
    "import os\n",
    "import contextlib\n",
    "import io\n",
    "import time\n",
    "import json\n",
    "\n",
    "import matplotlib.pyplot as plt\n",
    "\n",
    "from fvcore.common.file_io import PathManager\n",
    "\n",
    "from pycocotools.coco import COCO\n",
    "\n",
    "from detectron2.config import get_cfg\n",
    "from detectron2.checkpoint import DetectionCheckpointer\n",
    "from detectron2.data import detection_utils as utils\n",
    "from detectron2.data import build_detection_train_loader\n",
    "from detectron2.data import build_detection_test_loader\n",
    "from detectron2.data import MetadataCatalog, DatasetCatalog\n",
    "from detectron2.data.datasets import register_coco_instances\n",
    "from detectron2.engine import DefaultPredictor\n",
    "from detectron2.modeling import build_model\n",
    "from detectron2.structures import BoxMode\n",
    "\n",
    "# local .json file with local path info\n",
    "geladas_root = os.path.dirname(os.path.dirname(os.getcwd()))\n",
    "local_paths_file = os.path.join(geladas_root, 'local-paths.json')\n",
    "with open(local_paths_file, \"r\") as json_file:\n",
    "    local_paths = json.load(json_file)\n",
    "\n",
    "import sys\n",
    "sys.path.append(\n",
    "    os.path.join(local_paths[\"general_dection_path\"],\n",
    "                 \"detectron2_classes\")\n",
    ")\n",
    "from DetectionDatasetMapper import DetectionDatasetMapper\n",
    "from PrecisionRecallEvaluator import PrecisionRecallEvaluator\n",
    "from GroundtruthVisualizer import GroundtruthVisualizer"
   ]
  },
  {
   "cell_type": "code",
   "execution_count": 2,
   "metadata": {},
   "outputs": [
    {
     "data": {
      "text/plain": [
       "'0.2.1'"
      ]
     },
     "execution_count": 2,
     "metadata": {},
     "output_type": "execute_result"
    }
   ],
   "source": [
    "detectron2.__version__"
   ]
  },
  {
   "cell_type": "code",
   "execution_count": 3,
   "metadata": {},
   "outputs": [],
   "source": [
    "base_folder = local_paths[\"annotations_folder\"]\n",
    "images_folder = os.path.join(base_folder, \"annotated_images\")"
   ]
  },
  {
   "cell_type": "code",
   "execution_count": 4,
   "metadata": {},
   "outputs": [
    {
     "name": "stdout",
     "output_type": "stream",
     "text": [
      "/home/golden/overhead-video-method/geladas/detection/model_training/output/LRscheduler-cropped-color-aug_maxiter-6400_lr-0.0019_detectPerIm-200_minsize-0_batchsize-8/config.yaml\n"
     ]
    }
   ],
   "source": [
    "models_folder = os.path.basename(os.getcwd(), \"output\")\n",
    "model_name = \"LRscheduler-cropped-color-aug_maxiter-6400_lr-0.0019_detectPerIm-200_minsize-0_batchsize-8\"\n",
    "yaml_file = os.path.join(models_folder, model_name, 'config.yaml')\n",
    "print(yaml_file)"
   ]
  },
  {
   "cell_type": "code",
   "execution_count": 5,
   "metadata": {},
   "outputs": [
    {
     "name": "stdout",
     "output_type": "stream",
     "text": [
      "./output/LRscheduler-cropped-color-aug_maxiter-6400_lr-0.0019_detectPerIm-200_minsize-0_batchsize-8/best-model-config-iter-1319-loss-0.5798989905295178.pth\n"
     ]
    }
   ],
   "source": [
    "cfg = get_cfg()\n",
    "with open(yaml_file, 'r') as f:\n",
    "    yaml_string = f.read()\n",
    "cfg = cfg.load_cfg(yaml_string)\n",
    "\n",
    "cfg.SOLVER.IMS_PER_BATCH = 1\n",
    "cfg.INPUT.CROP.ENABLED = False\n",
    "\n",
    "weights_path = sorted(\n",
    "    glob.glob(os.path.join(cfg.OUTPUT_DIR, \"best-model-config-iter-*.pth\"))\n",
    ")[-1]\n",
    "print(weights_path)\n",
    "cfg.MODEL.WEIGHTS = os.path.join(weights_path)"
   ]
  },
  {
   "cell_type": "code",
   "execution_count": 6,
   "metadata": {},
   "outputs": [
    {
     "name": "stdout",
     "output_type": "stream",
     "text": [
      "0.05\n",
      "2\n"
     ]
    }
   ],
   "source": [
    "print(cfg.MODEL.ROI_HEADS.SCORE_THRESH_TEST)\n",
    "# cfg.MODEL.ROI_HEADS.SCORE_THRESH_TEST = 0.5 ????\n",
    "print(cfg.MODEL.ROI_HEADS.NUM_CLASSES)"
   ]
  },
  {
   "cell_type": "code",
   "execution_count": 7,
   "metadata": {},
   "outputs": [
    {
     "name": "stdout",
     "output_type": "stream",
     "text": [
      "69 training images \n",
      " 13 validation images \n",
      " 16 test images \n",
      " 33 square train images\n"
     ]
    }
   ],
   "source": [
    "train_json = os.path.join(base_folder, 'train.json') \n",
    "val_json = os.path.join(base_folder, 'val.json')\n",
    "test_json = os.path.join(base_folder, 'test.json')\n",
    "# square_train_json = os.path.join(base_folder, 'coco_export-2022-01-05T15_53_24.697Z-training.json')\n",
    "square_train_json = os.path.join(base_folder, 'coco_export-2022-01-06T14_28_01.837Z-original_annotations.json')\n",
    "\n",
    "\n",
    "register_coco_instances(\"train\", {}, train_json, images_folder)\n",
    "register_coco_instances(\"val\", {}, val_json, images_folder)\n",
    "register_coco_instances(\"test\", {}, test_json, images_folder)\n",
    "register_coco_instances(\"train_square\", {}, square_train_json, images_folder)\n",
    "\n",
    "train_dicts = DatasetCatalog.get(\"train\")\n",
    "val_dicts = DatasetCatalog.get(\"val\")\n",
    "test_dicts = DatasetCatalog.get(\"test\")\n",
    "square_train_dicts = DatasetCatalog.get(\"train_square\")\n",
    "\n",
    "num_train_images = len(train_dicts)\n",
    "num_val_images = len(val_dicts)\n",
    "num_test_images = len(test_dicts)\n",
    "num_square_train_images = len(square_train_dicts)\n",
    "print(f\"{num_train_images} training images \\n\",\n",
    "      f\"{num_val_images} validation images \\n\",\n",
    "      f\"{num_test_images} test images \\n\",\n",
    "      f\"{num_square_train_images} square train images\")"
   ]
  },
  {
   "cell_type": "code",
   "execution_count": 8,
   "metadata": {},
   "outputs": [
    {
     "data": {
      "text/plain": [
       "['gelada', 'human']"
      ]
     },
     "execution_count": 8,
     "metadata": {},
     "output_type": "execute_result"
    }
   ],
   "source": [
    "train_metadata = MetadataCatalog.get(\"train\")\n",
    "train_metadata.get(\"thing_classes\")"
   ]
  },
  {
   "cell_type": "code",
   "execution_count": 9,
   "metadata": {},
   "outputs": [],
   "source": [
    "dataset_name = \"train_square\"\n",
    "mapper = DetectionDatasetMapper(cfg, is_train=False, calc_val_loss=False)\n",
    "# loader = build_detection_train_loader(cfg, mapper=mapper, )\n",
    "loader = build_detection_test_loader(cfg, dataset_name, mapper)"
   ]
  },
  {
   "cell_type": "code",
   "execution_count": 10,
   "metadata": {},
   "outputs": [],
   "source": [
    "for batch in loader:\n",
    "    break"
   ]
  },
  {
   "cell_type": "code",
   "execution_count": 15,
   "metadata": {},
   "outputs": [
    {
     "data": {
      "text/plain": [
       "torch.Size([3, 2160, 3840])"
      ]
     },
     "execution_count": 15,
     "metadata": {},
     "output_type": "execute_result"
    }
   ],
   "source": [
    "batch[0]['image'].shape"
   ]
  },
  {
   "cell_type": "code",
   "execution_count": null,
   "metadata": {},
   "outputs": [],
   "source": []
  },
  {
   "cell_type": "code",
   "execution_count": 1,
   "metadata": {},
   "outputs": [],
   "source": [
    "cfg.DATASETS.TEST = (dataset_name, )\n",
    "predictor = DefaultPredictor(cfg)\n",
    "\n",
    "if dataset_name == 'train':\n",
    "    dataset_dict = train_dicts\n",
    "elif dataset_name == 'val':\n",
    "    dataset_dict = val_dicts\n",
    "elif dataset_name == 'test':\n",
    "    dataset_dict = test_dicts\n",
    "elif dataset_name == 'train_square':\n",
    "    dataset_dict = square_train_dicts\n",
    "\n",
    "for d in random.sample(dataset_dict, 20):\n",
    "    im = utils.read_image(\n",
    "        d[\"file_name\"], format=cfg.INPUT.FORMAT\n",
    "    )\n",
    "    outputs = predictor(im)\n",
    "    v = GroundtruthVisualizer(im[:, :, ::],\n",
    "                   metadata=train_metadata,\n",
    "                   scale=0.8,\n",
    "                   \n",
    "    )\n",
    "    v = v.draw_instance_predictions(outputs[\"instances\"].to(\"cpu\"))\n",
    "    plt.figure(figsize=(20,20))\n",
    "    plt.imshow(v.get_image()[:, :, ::-1])"
   ]
  },
  {
   "cell_type": "code",
   "execution_count": 16,
   "metadata": {},
   "outputs": [],
   "source": [
    "dataset_metadata = MetadataCatalog.get(dataset_name)\n",
    "json_file = PathManager.get_local_path(dataset_metadata.json_file)\n",
    "with contextlib.redirect_stdout(io.StringIO()):\n",
    "    coco_api = COCO(json_file)"
   ]
  },
  {
   "cell_type": "code",
   "execution_count": 17,
   "metadata": {},
   "outputs": [
    {
     "name": "stdout",
     "output_type": "stream",
     "text": [
      "creating index...\n",
      "index created!\n"
     ]
    }
   ],
   "source": [
    "coco_api.createIndex()"
   ]
  },
  {
   "cell_type": "code",
   "execution_count": 18,
   "metadata": {},
   "outputs": [
    {
     "name": "stdout",
     "output_type": "stream",
     "text": [
      "processed batch 0\n",
      "fps: 2.2843538717730403, total_time 14.008337497711182, num_frames 32\n",
      "Loading and preparing results...\n",
      "DONE (t=0.00s)\n",
      "creating index...\n",
      "index created!\n",
      "Running per image evaluation...\n",
      "Evaluate annotation type *bbox*\n",
      "COCOeval_opt.evaluate() finished in 0.03 seconds.\n",
      "Accumulating evaluation results...\n",
      "COCOeval_opt.accumulate() finished in 0.00 seconds.\n",
      " Average Precision  (AP) @[ IoU=0.50:0.95 | area=   all | maxDets=100 ] = 0.326\n",
      " Average Precision  (AP) @[ IoU=0.50      | area=   all | maxDets=100 ] = 0.648\n",
      " Average Precision  (AP) @[ IoU=0.75      | area=   all | maxDets=100 ] = 0.298\n",
      " Average Precision  (AP) @[ IoU=0.50:0.95 | area= small | maxDets=100 ] = 0.238\n",
      " Average Precision  (AP) @[ IoU=0.50:0.95 | area=medium | maxDets=100 ] = 0.637\n",
      " Average Precision  (AP) @[ IoU=0.50:0.95 | area= large | maxDets=100 ] = -1.000\n",
      " Average Recall     (AR) @[ IoU=0.50:0.95 | area=   all | maxDets=  1 ] = 0.145\n",
      " Average Recall     (AR) @[ IoU=0.50:0.95 | area=   all | maxDets= 10 ] = 0.223\n",
      " Average Recall     (AR) @[ IoU=0.50:0.95 | area=   all | maxDets=100 ] = 0.381\n",
      " Average Recall     (AR) @[ IoU=0.50:0.95 | area= small | maxDets=100 ] = 0.296\n",
      " Average Recall     (AR) @[ IoU=0.50:0.95 | area=medium | maxDets=100 ] = 0.678\n",
      " Average Recall     (AR) @[ IoU=0.50:0.95 | area= large | maxDets=100 ] = -1.000\n"
     ]
    }
   ],
   "source": [
    "\n",
    "# Check training\n",
    "\n",
    "evaluator = PrecisionRecallEvaluator(dataset_name, cfg, distributed=False)\n",
    "# evaluator = COCOEvaluator(dataset_name, cfg, distributed=False)\n",
    "evaluator.reset()\n",
    "\n",
    "show_ims = False\n",
    "show_gts = False\n",
    "\n",
    "cfg.DATASETS.TEST = (dataset_name, )\n",
    "# predictor = DefaultPredictor(cfg)\n",
    "\n",
    "model = build_model(cfg)\n",
    "_ = model.eval()\n",
    "\n",
    "checkpointer = DetectionCheckpointer(model)\n",
    "checkpointer.load(cfg.MODEL.WEIGHTS)\n",
    "\n",
    "all_outputs = []\n",
    "\n",
    "t = time.time()\n",
    "with torch.no_grad():\n",
    "    for batch_num, batch in enumerate(loader):\n",
    "        \n",
    "        if batch_num % 50 == 0:\n",
    "            print(f'processed batch {batch_num}')\n",
    "\n",
    "        outputs = model(batch)\n",
    "        \n",
    "\n",
    "        all_outputs.extend(outputs)\n",
    "    \n",
    "        evaluator.process(batch, outputs)\n",
    "        if show_ims:   \n",
    "            for ind, output in enumerate(outputs):\n",
    "                im = (\n",
    "                    np.transpose(batch[0]['image'].numpy(), (1, 2, 0))\n",
    "                ).astype(int)\n",
    "                \n",
    "                im_id = batch[ind]['image_id']\n",
    "\n",
    "                gts=coco_api.loadAnns(coco_api.getAnnIds(imgIds=[im_id]))\n",
    "                anno_dict = {}\n",
    "                for gt in gts:\n",
    "                    gt['bbox_mode'] = BoxMode.XYWH_ABS\n",
    "                anno_dict['annotations'] = gts\n",
    "                \n",
    "                scale = 0.8\n",
    "                if show_gts:\n",
    "                    v = GroundTruthVisualizer(im,\n",
    "                               metadata=train_metadata,\n",
    "                               scale=1.0,\n",
    "                    )\n",
    "                    v_gt = v.draw_dataset_dict(anno_dict)\n",
    "                    im = v_gt.get_image()\n",
    "                    plt.figure(figsize=(20, 20))\n",
    "                    plt.imshow(v_gt.get_image()[:, :, ::-1])\n",
    "                v = Visualizer(im,\n",
    "                               metadata=train_metadata,\n",
    "                               scale=scale,\n",
    "                )\n",
    "                v_im = v.draw_instance_predictions(output[\"instances\"].to(\"cpu\"))\n",
    "                \n",
    "                plt.figure(figsize=(20, 20))\n",
    "                plt.imshow(v_im.get_image()[:, :, ::-1])\n",
    "                \n",
    "                \n",
    "        if batch_num >= 1000:\n",
    "            print(f'batch {batch_num}')\n",
    "            break\n",
    "total_time = time.time() - t\n",
    "print(f\"fps: {batch_num/total_time}, total_time {total_time}, num_frames {batch_num}\")\n",
    "\n",
    "coco_result = evaluator.evaluate()"
   ]
  },
  {
   "cell_type": "code",
   "execution_count": 19,
   "metadata": {},
   "outputs": [
    {
     "name": "stdout",
     "output_type": "stream",
     "text": [
      "0.3432999797284439\n"
     ]
    }
   ],
   "source": [
    "precisions = coco_result['bbox']['precision']\n",
    "precision = precisions[:, :, 0, 0, -1]\n",
    "precision = precision[precision > -1]\n",
    "ap = np.mean(precision) if precision.size else float(\"nan\")\n",
    "print(ap)"
   ]
  },
  {
   "cell_type": "code",
   "execution_count": 20,
   "metadata": {},
   "outputs": [
    {
     "name": "stdout",
     "output_type": "stream",
     "text": [
      "0.3432999797284439\n"
     ]
    },
    {
     "data": {
      "image/png": "[encoded data removed]",
      "text/plain": [
       "<Figure size 432x288 with 1 Axes>"
      ]
     },
     "metadata": {
      "needs_background": "light"
     },
     "output_type": "display_data"
    },
    {
     "data": {
      "image/png": "[encoded data removed]",
      "text/plain": [
       "<Figure size 432x288 with 1 Axes>"
      ]
     },
     "metadata": {
      "needs_background": "light"
     },
     "output_type": "display_data"
    }
   ],
   "source": [
    "params = coco_result['bbox']['params']\n",
    "precision = coco_result['bbox']['precision']\n",
    "print(np.mean(precision[:, :, 0, 0, 2]))\n",
    "for obj_class, _ in enumerate(precision[0, 0, :, 0, 0]):\n",
    "    plt.figure()\n",
    "    for iou_ind, iou_thrsh in enumerate(params.iouThrs):\n",
    "        plt.plot(params.recThrs, precision[iou_ind, :, obj_class, 0, 2], label=iou_thrsh)\n",
    "    plt.legend()\n",
    "    plt.xlabel('Recall')\n",
    "    plt.ylabel('Precision')\n",
    "    "
   ]
  },
  {
   "cell_type": "code",
   "execution_count": null,
   "metadata": {},
   "outputs": [],
   "source": []
  },
  {
   "cell_type": "code",
   "execution_count": 25,
   "metadata": {},
   "outputs": [
    {
     "data": {
      "text/plain": [
       "dict_keys(['precision', 'params', 'res', 'coco_eval'])"
      ]
     },
     "execution_count": 25,
     "metadata": {},
     "output_type": "execute_result"
    }
   ],
   "source": [
    "coco_result['bbox'].keys()"
   ]
  },
  {
   "cell_type": "code",
   "execution_count": 31,
   "metadata": {},
   "outputs": [
    {
     "data": {
      "text/plain": [
       "<pycocotools.cocoeval.Params at 0x7f579ba97fd0>"
      ]
     },
     "execution_count": 31,
     "metadata": {},
     "output_type": "execute_result"
    }
   ],
   "source": [
    "coco_result['bbox']['params']"
   ]
  },
  {
   "cell_type": "code",
   "execution_count": null,
   "metadata": {},
   "outputs": [],
   "source": []
  }
 ],
 "metadata": {
  "kernelspec": {
   "display_name": "Python 3",
   "language": "python",
   "name": "python3"
  },
  "language_info": {
   "codemirror_mode": {
    "name": "ipython",
    "version": 3
   },
   "file_extension": ".py",
   "mimetype": "text/x-python",
   "name": "python",
   "nbconvert_exporter": "python",
   "pygments_lexer": "ipython3",
   "version": "3.6.9"
  }
 },
 "nbformat": 4,
 "nbformat_minor": 4
}
