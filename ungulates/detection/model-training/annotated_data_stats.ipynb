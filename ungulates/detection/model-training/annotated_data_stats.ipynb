{
 "cells": [
  {
   "cell_type": "markdown",
   "metadata": {},
   "source": [
    "# Display additional stats about the annotated images being used for training\n",
    "\n",
    "This is not part of the core method. It just provides some additional information about the number and spatial size of the annotations for the various classes that were annotated. This sort of information can be useful for thinking about why certain classes may be detected better or worse than expected compared to other classes in the data set."
   ]
  },
  {
   "cell_type": "code",
   "execution_count": 1,
   "metadata": {},
   "outputs": [],
   "source": [
    "import os\n",
    "import json\n",
    "import random\n",
    "\n",
    "import cv2\n",
    "import matplotlib.pyplot as plt\n",
    "import numpy as np\n",
    "import yaml\n",
    "\n",
    "import detectron2\n",
    "from detectron2 import model_zoo\n",
    "from detectron2.engine import DefaultPredictor\n",
    "from detectron2.config import get_cfg\n",
    "from detectron2.utils.visualizer import Visualizer\n",
    "import detectron2.utils.comm as comm\n",
    "from detectron2.data import MetadataCatalog, DatasetCatalog\n",
    "from detectron2.data.datasets import register_coco_instances\n",
    "\n",
    "from detectron2.data import build_detection_train_loader\n",
    "from detectron2.data import build_detection_test_loader\n",
    "\n",
    "ungulates_root = os.path.dirname(os.path.dirname(os.getcwd()))\n",
    "local_paths_file = os.path.join(ungulates_root, 'local-paths.json')\n",
    "with open(local_paths_file, \"r\") as json_file:\n",
    "    local_paths = json.load(json_file)\n",
    "\n",
    "import sys\n",
    "sys.path.append(local_paths['overhead_functions_path'])\n",
    "from print_instances_class_histogram import print_instances_class_histogram\n",
    "\n",
    "sys.path.append(\n",
    "    os.path.join(local_paths['overhead_functions_path'],\n",
    "                 \"detectron2_classes\"\n",
    "                )\n",
    ")\n",
    "from DetectionDatasetMapper import DetectionDatasetMapper\n",
    "from DetectionTrainer import DetectionTrainer"
   ]
  },
  {
   "cell_type": "code",
   "execution_count": 2,
   "metadata": {},
   "outputs": [],
   "source": [
    "# Local folder with annotated images and subfolder containing train.json\n",
    "# and val.json files\n",
    "annotations_folder = local_paths['annotations_folder'] \n",
    "# This the name of the subfolder that contains that annotation .jsons\n",
    "annotation_set_name = \"annotations-clean-name-pruned\""
   ]
  },
  {
   "cell_type": "code",
   "execution_count": 1,
   "metadata": {},
   "outputs": [],
   "source": [
    "train_json = os.path.join(annotations_folder, annotation_set_name, 'train.json') \n",
    "val_json = os.path.join(annotations_folder, annotation_set_name, 'val.json')\n",
    "\n",
    "register_coco_instances(\"train\", {}, train_json, annotations_folder)\n",
    "register_coco_instances(\"val\", {}, val_json, annotations_folder)"
   ]
  },
  {
   "cell_type": "code",
   "execution_count": 5,
   "metadata": {},
   "outputs": [],
   "source": [
    "train_metadata = MetadataCatalog.get(\"train\")\n",
    "train_dicts = DatasetCatalog.get(\"train\")\n",
    "val_dicts = DatasetCatalog.get(\"val\")"
   ]
  },
  {
   "cell_type": "markdown",
   "metadata": {},
   "source": [
    "### Info about number of classes, images, and instances annnotated"
   ]
  },
  {
   "cell_type": "code",
   "execution_count": 6,
   "metadata": {},
   "outputs": [
    {
     "name": "stdout",
     "output_type": "stream",
     "text": [
      "1340 training images \n",
      "286 validation images\n",
      "Annotated classes: ['zebra', 'gazelle', 'wbuck', 'buffalo', 'other']\n"
     ]
    }
   ],
   "source": [
    "num_train_images = len(train_dicts)\n",
    "num_val_images = len(val_dicts)\n",
    "print(f\"{num_train_images} training images \\n\"\n",
    "      + f\"{num_val_images} validation images\")\n",
    "\n",
    "train_metadata = MetadataCatalog.get(\"train\")\n",
    "print(f\"Annotated classes: {train_metadata.get('thing_classes')}\")"
   ]
  },
  {
   "cell_type": "code",
   "execution_count": 7,
   "metadata": {},
   "outputs": [
    {
     "name": "stdout",
     "output_type": "stream",
     "text": [
      "\n",
      "Train frames:\n",
      "|  category  | #instances   |  category  | #instances   |  category  | #instances   |\n",
      "|:----------:|:-------------|:----------:|:-------------|:----------:|:-------------|\n",
      "|   zebra    | 1007         |  gazelle   | 378          |   wbuck    | 63           |\n",
      "|  buffalo   | 192          |   other    | 172          |            |              |\n",
      "|   total    | 1812         |            |              |            |              |\n",
      "\n",
      "Train annotations:\n",
      "|  category  | #instances   |  category  | #instances   |  category  | #instances   |\n",
      "|:----------:|:-------------|:----------:|:-------------|:----------:|:-------------|\n",
      "|   zebra    | 14315        |  gazelle   | 4830         |   wbuck    | 498          |\n",
      "|  buffalo   | 6192         |   other    | 854          |            |              |\n",
      "|   total    | 26689        |            |              |            |              |\n",
      "\n",
      "Validation frames:\n",
      "|  category  | #instances   |  category  | #instances   |  category  | #instances   |\n",
      "|:----------:|:-------------|:----------:|:-------------|:----------:|:-------------|\n",
      "|   zebra    | 211          |  gazelle   | 77           |   wbuck    | 8            |\n",
      "|  buffalo   | 47           |   other    | 35           |            |              |\n",
      "|   total    | 378          |            |              |            |              |\n",
      "\n",
      "Validation annotations:\n",
      "|  category  | #instances   |  category  | #instances   |  category  | #instances   |\n",
      "|:----------:|:-------------|:----------:|:-------------|:----------:|:-------------|\n",
      "|   zebra    | 3094         |  gazelle   | 980          |   wbuck    | 40           |\n",
      "|  buffalo   | 1615         |   other    | 169          |            |              |\n",
      "|   total    | 5898         |            |              |            |              |\n"
     ]
    }
   ],
   "source": [
    "print(\"\\nTrain frames:\")\n",
    "print_instances_class_histogram(train_dicts, train_metadata.get(\"thing_classes\"), num_frames=True)\n",
    "print(\"\\nTrain annotations:\")\n",
    "print_instances_class_histogram(train_dicts, train_metadata.get(\"thing_classes\"), num_frames=False)\n",
    "print(\"\\nValidation frames:\")\n",
    "print_instances_class_histogram(val_dicts, train_metadata.get(\"thing_classes\"), num_frames=True)\n",
    "print(\"\\nValidation annotations:\")\n",
    "print_instances_class_histogram(val_dicts, train_metadata.get(\"thing_classes\"), num_frames=False)"
   ]
  },
  {
   "cell_type": "markdown",
   "metadata": {},
   "source": [
    "### Info about the actual size of bounding boxes for the various classes"
   ]
  },
  {
   "cell_type": "code",
   "execution_count": 21,
   "metadata": {},
   "outputs": [],
   "source": [
    "import logging\n",
    "import itertools\n",
    "\n",
    "import matplotlib.pyplot as plt\n",
    "import numpy as np\n",
    "from tabulate import tabulate"
   ]
  },
  {
   "cell_type": "code",
   "execution_count": 27,
   "metadata": {},
   "outputs": [
    {
     "name": "stdout",
     "output_type": "stream",
     "text": [
      "zebra: mean: 3660.0444289207126 lowwer_quartile: 2626.0 upper_quartile: 4218.0 num annotations: 14315\n",
      "gazelle: mean: 1604.1403726708074 lowwer_quartile: 1089.0 upper_quartile: 1920.0 num annotations: 4830\n",
      "wbuck: mean: 2888.5803212851406 lowwer_quartile: 2472.5 upper_quartile: 3256.0 num annotations: 498\n",
      "buffalo: mean: 5650.740956072352 lowwer_quartile: 3690.0 upper_quartile: 7392.0 num annotations: 6192\n",
      "other: mean: 1624.8126463700235 lowwer_quartile: 1363.0 upper_quartile: 1884.5 num annotations: 854\n"
     ]
    },
    {
     "data": {
      "image/png": "[encoded data removed]",
      "text/plain": [
       "<Figure size 432x288 with 1 Axes>"
      ]
     },
     "metadata": {
      "needs_background": "light"
     },
     "output_type": "display_data"
    },
    {
     "data": {
      "image/png": "[encoded data removed]",
      "text/plain": [
       "<Figure size 432x288 with 1 Axes>"
      ]
     },
     "metadata": {
      "needs_background": "light"
     },
     "output_type": "display_data"
    },
    {
     "data": {
      "image/png": "[encoded data removed]",
      "text/plain": [
       "<Figure size 432x288 with 1 Axes>"
      ]
     },
     "metadata": {
      "needs_background": "light"
     },
     "output_type": "display_data"
    },
    {
     "data": {
      "image/png": "[encoded data removed]",
      "text/plain": [
       "<Figure size 432x288 with 1 Axes>"
      ]
     },
     "metadata": {
      "needs_background": "light"
     },
     "output_type": "display_data"
    },
    {
     "data": {
      "image/png": "[encoded data removed]",
      "text/plain": [
       "<Figure size 432x288 with 1 Axes>"
      ]
     },
     "metadata": {
      "needs_background": "light"
     },
     "output_type": "display_data"
    }
   ],
   "source": [
    "dataset_dicts = train_dicts\n",
    "class_names = train_metadata.get(\"thing_classes\")\n",
    "\n",
    "object_sizes = {c_ind: [] for c_ind, c in enumerate(class_names)}\n",
    "\n",
    "for entry in dataset_dicts:\n",
    "    annotations = entry[\"annotations\"]\n",
    "    for annotation in annotations:\n",
    "        if annotation.get(\"iscrowd\", 0):\n",
    "            continue\n",
    "            \n",
    "        obj_class = annotation['category_id']\n",
    "        bbox = annotation['bbox']\n",
    "        bbox_area = bbox[2] * bbox[3]\n",
    "        object_sizes[obj_class].append(bbox_area)\n",
    "\n",
    "for obj_name, sizes in zip(class_names, object_sizes.values()):\n",
    "    sizes = np.array(sizes)\n",
    "    plt.figure()\n",
    "    plt.hist(sizes)\n",
    "    plt.title(obj_name)\n",
    "    print(f\"{obj_name}: mean: {np.mean(sizes)}\", \n",
    "          f\"lowwer_quartile: {np.percentile(sizes, 25)}\",\n",
    "          f\"upper_quartile: {np.percentile(sizes, 75)}\",\n",
    "          f\"num annotations: {len(sizes)}\")"
   ]
  },
  {
   "cell_type": "code",
   "execution_count": null,
   "metadata": {},
   "outputs": [],
   "source": []
  },
  {
   "cell_type": "code",
   "execution_count": null,
   "metadata": {},
   "outputs": [],
   "source": []
  },
  {
   "cell_type": "code",
   "execution_count": null,
   "metadata": {},
   "outputs": [],
   "source": []
  },
  {
   "cell_type": "code",
   "execution_count": null,
   "metadata": {},
   "outputs": [],
   "source": []
  }
 ],
 "metadata": {
  "kernelspec": {
   "display_name": "Python 3 (ipykernel)",
   "language": "python",
   "name": "python3"
  },
  "language_info": {
   "codemirror_mode": {
    "name": "ipython",
    "version": 3
   },
   "file_extension": ".py",
   "mimetype": "text/x-python",
   "name": "python",
   "nbconvert_exporter": "python",
   "pygments_lexer": "ipython3",
   "version": "3.9.16"
  }
 },
 "nbformat": 4,
 "nbformat_minor": 4
}
