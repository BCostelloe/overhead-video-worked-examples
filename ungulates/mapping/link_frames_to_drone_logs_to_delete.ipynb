{
 "cells": [
  {
   "cell_type": "code",
   "execution_count": 1,
   "metadata": {},
   "outputs": [],
   "source": [
    "import numpy as np\n",
    "import pandas as pd\n",
    "import os\n",
    "import glob\n",
    "import shutil\n",
    "# from osgeo import gdal\n",
    "# import struct\n",
    "# import utm\n",
    "import matplotlib.pyplot as plt\n",
    "\n",
    "# import sys\n",
    "# To see koger_general_functions\n",
    "# sys.path.append('/Users/blaircostelloe/Dropbox/HerdHover_project/drone-tracking-master/functions')\n",
    "# import koger_general_functions as kgf"
   ]
  },
  {
   "cell_type": "code",
   "execution_count": 5,
   "metadata": {},
   "outputs": [],
   "source": [
    "# This is the observation name you are working on \n",
    "video_name = 'observation070'\n",
    "\n",
    "# These have to be manually gotten from the videos or frame extractions\n",
    "# The first real visible instance of veritcal drone movement in the video\n",
    "# first_moving_frames = [0, 150, 782]\n",
    "# The first detectable rotation of the drone after \"GoHome\" is activated\n",
    "# There is a excel file\n",
    "go_home_frames = [2634, 11084, 9354]\n",
    "# the clip number (within a flight) that go_home_frames are pulled from.\n",
    "go_home_clips = [3, 2, 2]\n",
    "\n",
    "\n",
    "\n",
    "\n",
    "# This assumes there is an outer folder that contains one folder for each \n",
    "# observation which then contains all of the actual drone logs from that observation\n",
    "# for example:\n",
    "\n",
    "# outer_drone_log_folder{\n",
    "#     observation001 {\n",
    "#         flightlog_ob001-01.csv\n",
    "#         flightlog_ob001-02.csv\n",
    "#         flightlog_ob001-03.csv\n",
    "#     }\n",
    "#     observation004 {\n",
    "#         flightlog_ob004-01.csv\n",
    "#         flightlog_ob004-02.csv\n",
    "#     }\n",
    "# }\n",
    "\n",
    "# This is the path to the outer folder\n",
    "outer_drone_log_folder = '/home/golden/Dropbox/herdhover-data/flight_logs'\n",
    "drone_logs = glob.glob(outer_drone_log_folder + '/' + video_name + '/' '*')\n",
    "drone_logs.sort()\n",
    "\n",
    "# This is where the raw video images are saved \n",
    "frame_folders_root = '/home/golden/kenya_drones/processing/kenya-tracking/raw-frames/raw-footage' + '/' + video_name\n",
    "# This is the place the map images will be stored\n",
    "output_folder_root = '/home/golden/kenya_drones/processing/kenya-tracking/map-images' + '/' + video_name\n",
    "output_folder_root = '/home/golden/Dropbox/temp-image-viewing' + '/' + video_name\n",
    "\n",
    "server_output_folder = os.path.join(\"/home/golden/kenya_drones/map_test_params\", video_name)\n",
    "\n",
    "if not os.path.isdir(output_folder_root):\n",
    "    os.mkdir(output_folder_root)\n",
    "    \n",
    "    \n",
    "\n",
    "num_flights = len(drone_logs)\n",
    "if len(go_home_frames) != num_flights:\n",
    "    raise ValueError('make sure you have as many first moving frames as drone flights in the observation')"
   ]
  },
  {
   "cell_type": "code",
   "execution_count": null,
   "metadata": {},
   "outputs": [],
   "source": []
  },
  {
   "cell_type": "code",
   "execution_count": 6,
   "metadata": {},
   "outputs": [],
   "source": [
    "csv_file = os.path.join(frame_folders_root, os.path.basename(frame_folders_root) + '.csv')\n",
    "try:\n",
    "    observation_df = pd.read_csv(csv_file)\n",
    "except IOError:\n",
    "    print('.csv file missing from folder')\n",
    "\n",
    "# Get first and last frame number for every video segment in each drone flight\n",
    "\n",
    "first_last_folders = []\n",
    "\n",
    "# current video name\n",
    "curr_video_name = None\n",
    "\n",
    "for row in range(observation_df.shape[0]):\n",
    "    # sample the video at every other frame\n",
    "    # csv records raw frame numbers (say 60fps)\n",
    "    first_frame = int(observation_df.loc[row, 'first_frame'])\n",
    "    last_frame = int(observation_df.loc[row, 'last_frame'])\n",
    "    \n",
    "    # If new video name add a new list to keep track of that videos info\n",
    "    if observation_df.loc[row, 'video_name'].rpartition('_')[0] != curr_video_name:\n",
    "        first_last_folders.append([])\n",
    "        curr_video_name = observation_df.loc[row, 'video_name'].rpartition('_')[0]\n",
    "\n",
    "    if last_frame == -1:\n",
    "        frames = glob.glob(frame_folders_root + '/' + observation_df.loc[row, 'video_name'] + '/*.jpg')\n",
    "        frames.sort(key=lambda file: int(file.split('_')[-1].split('.')[0]))\n",
    "        last_frame = int(frames[-1].split('.')[-2].split('_')[-1])\n",
    "        \n",
    "    first_last_folders[-1].append({'first_frame': first_frame, 'last_frame': last_frame})"
   ]
  },
  {
   "cell_type": "code",
   "execution_count": 7,
   "metadata": {},
   "outputs": [
    {
     "data": {
      "text/plain": [
       "[[{'first_frame': 0, 'last_frame': 0},\n",
       "  {'first_frame': 3742, 'last_frame': 19632},\n",
       "  {'first_frame': 0, 'last_frame': 19632},\n",
       "  {'first_frame': 0, 'last_frame': 2626}],\n",
       " [{'first_frame': 9786, 'last_frame': 19630},\n",
       "  {'first_frame': 0, 'last_frame': 19634},\n",
       "  {'first_frame': 0, 'last_frame': 11074},\n",
       "  {'first_frame': 0, 'last_frame': 0}],\n",
       " [{'first_frame': 8528, 'last_frame': 19628},\n",
       "  {'first_frame': 0, 'last_frame': 19636},\n",
       "  {'first_frame': 0, 'last_frame': 9336},\n",
       "  {'first_frame': 0, 'last_frame': 0}]]"
      ]
     },
     "execution_count": 7,
     "metadata": {},
     "output_type": "execute_result"
    }
   ],
   "source": [
    "first_last_folders"
   ]
  },
  {
   "cell_type": "code",
   "execution_count": 8,
   "metadata": {},
   "outputs": [
    {
     "name": "stdout",
     "output_type": "stream",
     "text": [
      "/home/golden/kenya_drones/processing/kenya-tracking/raw-frames/raw-footage/observation070/observation070.csv\n"
     ]
    },
    {
     "data": {
      "text/html": [
       "<div>\n",
       "<style scoped>\n",
       "    .dataframe tbody tr th:only-of-type {\n",
       "        vertical-align: middle;\n",
       "    }\n",
       "\n",
       "    .dataframe tbody tr th {\n",
       "        vertical-align: top;\n",
       "    }\n",
       "\n",
       "    .dataframe thead th {\n",
       "        text-align: right;\n",
       "    }\n",
       "</style>\n",
       "<table border=\"1\" class=\"dataframe\">\n",
       "  <thead>\n",
       "    <tr style=\"text-align: right;\">\n",
       "      <th></th>\n",
       "      <th>Unnamed: 0</th>\n",
       "      <th>index</th>\n",
       "      <th>Unnamed: 0.1</th>\n",
       "      <th>video_name</th>\n",
       "      <th>first_frame</th>\n",
       "      <th>last_frame</th>\n",
       "    </tr>\n",
       "  </thead>\n",
       "  <tbody>\n",
       "    <tr>\n",
       "      <th>0</th>\n",
       "      <td>0</td>\n",
       "      <td>10</td>\n",
       "      <td>10</td>\n",
       "      <td>APR03_2018_A_DJI_0279</td>\n",
       "      <td>0</td>\n",
       "      <td>0</td>\n",
       "    </tr>\n",
       "    <tr>\n",
       "      <th>1</th>\n",
       "      <td>1</td>\n",
       "      <td>8</td>\n",
       "      <td>8</td>\n",
       "      <td>APR03_2018_A_DJI_0280</td>\n",
       "      <td>3742</td>\n",
       "      <td>-1</td>\n",
       "    </tr>\n",
       "    <tr>\n",
       "      <th>2</th>\n",
       "      <td>2</td>\n",
       "      <td>0</td>\n",
       "      <td>0</td>\n",
       "      <td>APR03_2018_A_DJI_0281</td>\n",
       "      <td>0</td>\n",
       "      <td>-1</td>\n",
       "    </tr>\n",
       "    <tr>\n",
       "      <th>3</th>\n",
       "      <td>3</td>\n",
       "      <td>4</td>\n",
       "      <td>4</td>\n",
       "      <td>APR03_2018_A_DJI_0282</td>\n",
       "      <td>0</td>\n",
       "      <td>2626</td>\n",
       "    </tr>\n",
       "    <tr>\n",
       "      <th>4</th>\n",
       "      <td>4</td>\n",
       "      <td>7</td>\n",
       "      <td>7</td>\n",
       "      <td>APR03_2018_B_DJI_0012</td>\n",
       "      <td>9786</td>\n",
       "      <td>-1</td>\n",
       "    </tr>\n",
       "    <tr>\n",
       "      <th>5</th>\n",
       "      <td>5</td>\n",
       "      <td>2</td>\n",
       "      <td>2</td>\n",
       "      <td>APR03_2018_B_DJI_0013</td>\n",
       "      <td>0</td>\n",
       "      <td>-1</td>\n",
       "    </tr>\n",
       "    <tr>\n",
       "      <th>6</th>\n",
       "      <td>6</td>\n",
       "      <td>1</td>\n",
       "      <td>1</td>\n",
       "      <td>APR03_2018_B_DJI_0014</td>\n",
       "      <td>0</td>\n",
       "      <td>11074</td>\n",
       "    </tr>\n",
       "    <tr>\n",
       "      <th>7</th>\n",
       "      <td>7</td>\n",
       "      <td>9</td>\n",
       "      <td>9</td>\n",
       "      <td>APR03_2018_B_DJI_0015</td>\n",
       "      <td>0</td>\n",
       "      <td>0</td>\n",
       "    </tr>\n",
       "    <tr>\n",
       "      <th>8</th>\n",
       "      <td>8</td>\n",
       "      <td>3</td>\n",
       "      <td>3</td>\n",
       "      <td>APR03_2018_C_DJI_0283</td>\n",
       "      <td>8528</td>\n",
       "      <td>-1</td>\n",
       "    </tr>\n",
       "    <tr>\n",
       "      <th>9</th>\n",
       "      <td>9</td>\n",
       "      <td>5</td>\n",
       "      <td>5</td>\n",
       "      <td>APR03_2018_C_DJI_0284</td>\n",
       "      <td>0</td>\n",
       "      <td>-1</td>\n",
       "    </tr>\n",
       "    <tr>\n",
       "      <th>10</th>\n",
       "      <td>10</td>\n",
       "      <td>11</td>\n",
       "      <td>11</td>\n",
       "      <td>APR03_2018_C_DJI_0285</td>\n",
       "      <td>0</td>\n",
       "      <td>9336</td>\n",
       "    </tr>\n",
       "    <tr>\n",
       "      <th>11</th>\n",
       "      <td>11</td>\n",
       "      <td>6</td>\n",
       "      <td>6</td>\n",
       "      <td>APR03_2018_C_DJI_0286</td>\n",
       "      <td>0</td>\n",
       "      <td>0</td>\n",
       "    </tr>\n",
       "  </tbody>\n",
       "</table>\n",
       "</div>"
      ],
      "text/plain": [
       "    Unnamed: 0  index  Unnamed: 0.1             video_name  first_frame  \\\n",
       "0            0     10            10  APR03_2018_A_DJI_0279            0   \n",
       "1            1      8             8  APR03_2018_A_DJI_0280         3742   \n",
       "2            2      0             0  APR03_2018_A_DJI_0281            0   \n",
       "3            3      4             4  APR03_2018_A_DJI_0282            0   \n",
       "4            4      7             7  APR03_2018_B_DJI_0012         9786   \n",
       "5            5      2             2  APR03_2018_B_DJI_0013            0   \n",
       "6            6      1             1  APR03_2018_B_DJI_0014            0   \n",
       "7            7      9             9  APR03_2018_B_DJI_0015            0   \n",
       "8            8      3             3  APR03_2018_C_DJI_0283         8528   \n",
       "9            9      5             5  APR03_2018_C_DJI_0284            0   \n",
       "10          10     11            11  APR03_2018_C_DJI_0285            0   \n",
       "11          11      6             6  APR03_2018_C_DJI_0286            0   \n",
       "\n",
       "    last_frame  \n",
       "0            0  \n",
       "1           -1  \n",
       "2           -1  \n",
       "3         2626  \n",
       "4           -1  \n",
       "5           -1  \n",
       "6        11074  \n",
       "7            0  \n",
       "8           -1  \n",
       "9           -1  \n",
       "10        9336  \n",
       "11           0  "
      ]
     },
     "execution_count": 8,
     "metadata": {},
     "output_type": "execute_result"
    }
   ],
   "source": [
    "print(csv_file)\n",
    "df = pd.read_csv(csv_file)\n",
    "df"
   ]
  },
  {
   "cell_type": "code",
   "execution_count": 9,
   "metadata": {},
   "outputs": [],
   "source": [
    "\n",
    "\n",
    "#  first_last_folders = []\n",
    "#  video_ind = -1\n",
    "#  for folder_ind, folder in enumerate(video_frame_folders):\n",
    "#      files = glob.glob(folder + '/*.jpg')\n",
    "#      files.sort(key=lambda file: int(file.split('_')[-1].split('.')[0]))\n",
    "\n",
    "#      first_frame = int(files[0].split('_')[-1].split('.')[0])\n",
    "#      last_frame = int(files[-1].split('_')[-1].split('.')[0])\n",
    "#      if first_frame == 0:\n",
    "#          first_last_folders[video_ind].append({'first_frame': first_frame, 'last_frame': last_frame})\n",
    "#      else:\n",
    "#          video_ind += 1\n",
    "#          first_last_folders.append([])\n",
    "#          first_last_folders[video_ind].append({'first_frame': first_frame, 'last_frame': last_frame})"
   ]
  },
  {
   "cell_type": "code",
   "execution_count": 10,
   "metadata": {},
   "outputs": [
    {
     "data": {
      "text/plain": [
       "[[{'first_frame': 0, 'last_frame': 0},\n",
       "  {'first_frame': 3742, 'last_frame': 19632},\n",
       "  {'first_frame': 0, 'last_frame': 19632},\n",
       "  {'first_frame': 0, 'last_frame': 2626}],\n",
       " [{'first_frame': 9786, 'last_frame': 19630},\n",
       "  {'first_frame': 0, 'last_frame': 19634},\n",
       "  {'first_frame': 0, 'last_frame': 11074},\n",
       "  {'first_frame': 0, 'last_frame': 0}],\n",
       " [{'first_frame': 8528, 'last_frame': 19628},\n",
       "  {'first_frame': 0, 'last_frame': 19636},\n",
       "  {'first_frame': 0, 'last_frame': 9336},\n",
       "  {'first_frame': 0, 'last_frame': 0}]]"
      ]
     },
     "execution_count": 10,
     "metadata": {},
     "output_type": "execute_result"
    }
   ],
   "source": [
    "first_last_folders"
   ]
  },
  {
   "cell_type": "code",
   "execution_count": 11,
   "metadata": {},
   "outputs": [],
   "source": [
    "## to manually split into flights if all were combined into one flight:\n",
    "#first_last_folders.append([])\n",
    "#first_last_folders[1] = first_last_folders[0][5:9]\n",
    "#first_last_folders[0] = first_last_folders[0][0:5]\n",
    "#first_last_folders"
   ]
  },
  {
   "cell_type": "code",
   "execution_count": null,
   "metadata": {},
   "outputs": [],
   "source": []
  },
  {
   "cell_type": "code",
   "execution_count": 12,
   "metadata": {},
   "outputs": [],
   "source": [
    "# Get the first and last frame number for drone flight (merging all video segments in drone flight together)\n",
    "\n",
    "first_last_flights = []\n",
    "\n",
    "for folder_list in first_last_folders:\n",
    "    first_frame = folder_list[0]['first_frame']\n",
    "    last_frame = folder_list[0]['last_frame']\n",
    "    for fl_dict in folder_list[1:]:\n",
    "            last_frame += fl_dict['last_frame']\n",
    "        \n",
    "    first_last_flights.append({'first_frame': first_frame, 'last_frame': last_frame})"
   ]
  },
  {
   "cell_type": "code",
   "execution_count": 13,
   "metadata": {},
   "outputs": [
    {
     "data": {
      "text/plain": [
       "[{'first_frame': 0, 'last_frame': 41890},\n",
       " {'first_frame': 9786, 'last_frame': 50338},\n",
       " {'first_frame': 8528, 'last_frame': 48600}]"
      ]
     },
     "execution_count": 13,
     "metadata": {},
     "output_type": "execute_result"
    }
   ],
   "source": [
    "first_last_flights"
   ]
  },
  {
   "cell_type": "code",
   "execution_count": 14,
   "metadata": {},
   "outputs": [],
   "source": [
    "# first_last_flights[0]['first_frame'] = 23370"
   ]
  },
  {
   "cell_type": "code",
   "execution_count": 15,
   "metadata": {},
   "outputs": [],
   "source": [
    "flight_logs = []\n",
    "for file in drone_logs:\n",
    "    flight_log = pd.read_csv(file)\n",
    "    # Get rid of potential white space in column names\n",
    "    flight_log.rename(columns=lambda x: x.strip(), inplace=True)\n",
    "    flight_logs.append(flight_log)"
   ]
  },
  {
   "cell_type": "code",
   "execution_count": null,
   "metadata": {},
   "outputs": [],
   "source": []
  },
  {
   "cell_type": "code",
   "execution_count": 16,
   "metadata": {},
   "outputs": [
    {
     "data": {
      "text/plain": [
       "[[{'first_frame': 0, 'last_frame': 0},\n",
       "  {'first_frame': 3742, 'last_frame': 19632},\n",
       "  {'first_frame': 0, 'last_frame': 19632},\n",
       "  {'first_frame': 0, 'last_frame': 2626}],\n",
       " [{'first_frame': 9786, 'last_frame': 19630},\n",
       "  {'first_frame': 0, 'last_frame': 19634},\n",
       "  {'first_frame': 0, 'last_frame': 11074},\n",
       "  {'first_frame': 0, 'last_frame': 0}],\n",
       " [{'first_frame': 8528, 'last_frame': 19628},\n",
       "  {'first_frame': 0, 'last_frame': 19636},\n",
       "  {'first_frame': 0, 'last_frame': 9336},\n",
       "  {'first_frame': 0, 'last_frame': 0}]]"
      ]
     },
     "execution_count": 16,
     "metadata": {},
     "output_type": "execute_result"
    }
   ],
   "source": [
    "first_last_folders"
   ]
  },
  {
   "cell_type": "code",
   "execution_count": null,
   "metadata": {},
   "outputs": [],
   "source": []
  },
  {
   "cell_type": "code",
   "execution_count": 17,
   "metadata": {},
   "outputs": [],
   "source": [
    "home_frames =[]\n",
    "for ind, log in enumerate(flight_logs):\n",
    "    # first adjust the frame number to account for all the frames in previous clips for that flight.\n",
    "    clip = go_home_clips[ind]\n",
    "    df = log\n",
    "    home_frame = go_home_frames[ind]\n",
    "    for num in range(clip):\n",
    "        home_frame = home_frame + int(first_last_folders[ind][num]['last_frame'])\n",
    "    home_frames.append(home_frame)\n",
    "    # now go through the log and find the row where flycState == \"GoHome\" AND compass heading has changed >.2\n",
    "    # since \"GoHome\" was activated. Call this going_home\n",
    "    compass_ref = df[df['flycState'] == 'Go_Home'].iloc[0]['compass_heading(degrees)']\n",
    "    going_home = df[(df['flycState'] == 'Go_Home') & (abs(df['compass_heading(degrees)'] - compass_ref) >= 0.2)].iloc[0]\n",
    "    # now assign 'frame_num' with value in going_home = to home_frame.\n",
    "    df.loc[:, 'frame_num'] = ((df.loc[:, 'time(millisecond)'] - going_home['time(millisecond)']) / 16.666).astype(int) + home_frames[ind]\n",
    "    #df.loc[:, 'frame_num'] = ((df.loc[:, 'time(millisecond)'] - df.loc[first_move[log_num], 'time(millisecond)']) / 16.666).astype(int) + first_moving_frames[log_num]"
   ]
  },
  {
   "cell_type": "code",
   "execution_count": 18,
   "metadata": {},
   "outputs": [],
   "source": [
    "for ind, log in enumerate(flight_logs):\n",
    "    log['altitude(m)'] = log['altitude(feet)']/3.28"
   ]
  },
  {
   "cell_type": "code",
   "execution_count": 19,
   "metadata": {},
   "outputs": [],
   "source": [
    "# # Find which drone log files have isVideo = 1. \n",
    "# # First extract all the names of the drone log csv files\n",
    "# root = '/Volumes/Seagate Desktop/kenya_drone_project/flight_logs'\n",
    "# log_files = [os.path.join(path, name) for path, subdirs, files in os.walk(root) for name in files]\n",
    "# log_files = [s for s in log_files if \".csv\" in s]\n",
    "\n",
    "# # Go through logs and check if the isVideo column contains a 1. If so, add the log to the list of \"working\" logs\n",
    "# isVideo_yes = []\n",
    "# isVideo_no = []\n",
    "# for log in log_files:\n",
    "#     df = pd.read_csv(log)\n",
    "#     values = df.isVideo.unique()\n",
    "#     if 1 in values:\n",
    "#         isVideo_yes.append(log)\n",
    "#     else:\n",
    "#         isVideo_no.append(log)"
   ]
  },
  {
   "cell_type": "code",
   "execution_count": 20,
   "metadata": {},
   "outputs": [],
   "source": [
    "# # Here we are matching up the drone log entries with the corresponding frames from the videos. We assume that\n",
    "# # the drone's internal clock remains accurate throughout the entire flight and that there are actually one frame\n",
    "# # captured every 1/60 seconds.\n",
    "# # (1 second / 60 frames * (1000 ms / 1s) = 16.6... ms/frames)\n",
    "\n",
    "# # Most straightforward is to find when the camera turned on (indicated in drone logs with isVideo == 1) and\n",
    "# # assign that to frame 0. But sometimes isVideo does not work. For these logs we will line up the logs with \n",
    "# # the first vertical movement of the drone in the video.\n",
    "\n",
    "# video_on = []\n",
    "# log_num = 0\n",
    "\n",
    "# # Find the first entries in each drone flight log where there is movement recorded\n",
    "# first_move = [np.min(np.nonzero(flight_logs[flight_ind].loc[:, 'ascent(feet)'])) for flight_ind in range(num_flights)]\n",
    "# print('The first log entries that correspond to vertical movement', first_move)\n",
    "\n",
    "# for log in drone_logs:\n",
    "#         df = flight_logs[log_num]\n",
    "#         # check if log is in the list of logs for which isVideo actually worked\n",
    "#         if log in isVideo_yes:\n",
    "#             print(\"isVideo worked for\" + log)\n",
    "#             # find the first entry in the log where isVideo = 1\n",
    "#             video_on = np.min(np.nonzero(df.loc[:, 'isVideo']))  \n",
    "#             print(\"The first log entry with video recording is\", video_on)\n",
    "#             # create a new column called frame_num, which is the estimated frame number corresponding to the \n",
    "#             # row in the drone log. Frame 0 should be the first frame where isVideo = 1\n",
    "#             df.loc[:, 'frame_num'] = (((df.loc[:, 'time(millisecond)'] - df.loc[video_on, 'time(millisecond)'])/16.666).astype(int))\n",
    "#         else: \n",
    "#             # if isVideo didn't work, we need to use another marker to line up the logs and the videos\n",
    "#             print('isVideo did not work for' + log + '. Using first movement instead.')\n",
    "#             # Here we align drone logs and video frames based on the first observed vertical drone movement. \n",
    "#             df.loc[:, 'frame_num'] = ((df.loc[:, 'time(millisecond)'] - df.loc[first_move[log_num], 'time(millisecond)']) / 16.666).astype(int) + first_moving_frames[log_num]\n",
    "#         log_num = log_num + 1"
   ]
  },
  {
   "cell_type": "code",
   "execution_count": null,
   "metadata": {},
   "outputs": [],
   "source": []
  },
  {
   "cell_type": "code",
   "execution_count": 21,
   "metadata": {},
   "outputs": [
    {
     "name": "stderr",
     "output_type": "stream",
     "text": [
      "/home/golden/coding-py36/lib/python3.6/site-packages/numpy/core/fromnumeric.py:61: FutureWarning: Series.nonzero() is deprecated and will be removed in a future version.Use Series.to_numpy().nonzero() instead\n",
      "  return bound(*args, **kwds)\n"
     ]
    },
    {
     "name": "stdout",
     "output_type": "stream",
     "text": [
      "79 frames were added to the map from flight 0.\n",
      "19 frames were added from rotation\n",
      "14 frames were added from movement\n",
      "45 frames were added from continued movement\n",
      "2 frames were added to the map from flight 1.\n",
      "0 frames were added from rotation\n",
      "0 frames were added from movement\n",
      "0 frames were added from continued movement\n",
      "149 frames were added to the map from flight 2.\n",
      "65 frames were added from rotation\n",
      "24 frames were added from movement\n",
      "62 frames were added from continued movement\n",
      "230 frames were added to the map in total\n"
     ]
    }
   ],
   "source": [
    "# Go through every entry and record frames where drone has moved by a certain threshold from previous recording\n",
    "# Use these frames to feed pix4d to create map of space and get ground truth drone movement\n",
    "\n",
    "# Get dataframe row numbers and frame numbers of images to use for map construction\n",
    "\n",
    "#############\n",
    "drone_movement_threshold = 0.00005\n",
    "\n",
    "# List of lists to store the frame numbers being used in the map\n",
    "frame_list = [[] for _ in range(len(drone_logs))]\n",
    "# Record the log row index that corresponds to each image in the map \n",
    "# Each flight has a different list\n",
    "ind_list = [[] for _ in range(len(drone_logs))]\n",
    "for flight_ind in range(len(drone_logs)):\n",
    "\n",
    "    # index in flight log corresponding to first frame in recording\n",
    "    first_ind = np.min(np.nonzero(flight_logs[flight_ind]['frame_num'] >= first_last_flights[flight_ind]['first_frame']))\n",
    "    # index in flight log corresponding to last frame in recording (-1 want row before first row after observation)\n",
    "    last_ind = np.min(np.nonzero(flight_logs[flight_ind]['frame_num'] > first_last_flights[flight_ind]['last_frame'])) - 1\n",
    "\n",
    "    # record the entries in the flight log the correspond to frames in the part of the video\n",
    "    # over the animals\n",
    "    # record whether the observation is happening in new column of the flight log dataframe\n",
    "    flight_logs[flight_ind] = flight_logs[flight_ind].assign(observing = False)\n",
    "    flight_logs[flight_ind].loc[first_ind:last_ind, 'observing'] = True\n",
    "    \n",
    "    # For images used in pix4d map, save the actual image name, none if not used in map\n",
    "    flight_logs[flight_ind] = flight_logs[flight_ind].assign(image_name = None)\n",
    "\n",
    "    # Add a new column to record the frames that are used to create the pix4d map\n",
    "    flight_logs[flight_ind] = flight_logs[flight_ind].assign(used_in_map = False)\n",
    "\n",
    "    # log = flight_logs[flight_ind].loc[first_ind:last_ind]\n",
    "    log = flight_logs[flight_ind]\n",
    "    \n",
    "    # Always include the first observation frame in the generated map\n",
    "    ind_list[flight_ind].append(first_ind)\n",
    "    frame_list[flight_ind].append(log.loc[first_ind, 'frame_num'])\n",
    "    flight_logs[flight_ind].loc[first_ind, 'used_in_map'] = True\n",
    "\n",
    "    # The coordinates of the last image added to the map\n",
    "    last_coord = np.array([log.loc[first_ind, 'latitude'], log.loc[first_ind, 'longitude']])\n",
    "    # The log row index of the last saved frame\n",
    "    last_saved_row_ind = first_ind\n",
    "    last_heading = log.loc[first_ind, 'compass_heading(degrees)']\n",
    "    \n",
    "    # Is the drone curently rotating\n",
    "    rotating = False\n",
    "    # Is the drone currently moving\n",
    "    moving = False\n",
    "    # How often to take frame when it is already rotating (degrees)\n",
    "    ###############\n",
    "    rotating_thresh = 30\n",
    "    # How many degrees the drone must turn for the drones to be considered rotating (degrees)\n",
    "    start_rotating_thresh = 1\n",
    "    # Speed theshold for moving (mph)\n",
    "    start_moving_thresh = 1.5\n",
    "    \n",
    "    # For reference\n",
    "    # how many times a frame was added to the map to deal with rotation\n",
    "    rotate_count = 0\n",
    "    # How many times the drone was considered moving\n",
    "    move_count = 0\n",
    "    thresh_count = 0\n",
    "    \n",
    "    heading_last_row = log.loc[first_ind, 'compass_heading(degrees)']\n",
    "\n",
    "\n",
    "    for ind, row in log.loc[log['observing'] == True].iterrows():\n",
    "        save_frame = False\n",
    "        cur_coord = np.array([row['latitude'], row['longitude']])\n",
    "        # How much has the drone rotated since the last saved frame\n",
    "        heading_dif = np.abs(row['compass_heading(degrees)'] - last_heading) \n",
    "        if not rotating:\n",
    "            if heading_dif > start_rotating_thresh:\n",
    "                rotating = True\n",
    "                save_frame = True\n",
    "                rotate_count += 1\n",
    "        elif rotating:\n",
    "            # The drone is still rotating\n",
    "            if heading_dif > rotating_thresh:\n",
    "                save_frame = True\n",
    "                rotate_count += 1\n",
    "            # The drone has stopped rotating\n",
    "            elif row['compass_heading(degrees)'] - heading_last_row == 0:\n",
    "                rotating = False\n",
    "                save_frame = True\n",
    "                rotate_count += 1\n",
    "        # Save the heading in the last row to see when the drone has stopped rotating\n",
    "        heading_last_row = row['compass_heading(degrees)']\n",
    "        # Starting to move\n",
    "        if not moving and row['speed(mph)'] > start_moving_thresh:\n",
    "            save_frame = True\n",
    "            moving = True\n",
    "            move_count += 1\n",
    "        # Movement stopped\n",
    "        if moving and row['speed(mph)'] == 0:\n",
    "            save_frame = True\n",
    "            moving = False\n",
    "            move_count += 1\n",
    "\n",
    "        # How much has the drone moved since the last saved frame\n",
    "        diff = np.sqrt(np.sum(np.square(cur_coord - last_coord)))\n",
    "        if diff > drone_movement_threshold:\n",
    "            save_frame = True\n",
    "            thresh_count += 1\n",
    "\n",
    "        if save_frame:\n",
    "            frame_list[flight_ind].append(row['frame_num'])\n",
    "            ind_list[flight_ind].append(ind)\n",
    "            flight_logs[flight_ind].loc[ind, 'used_in_map'] = True\n",
    "            last_coord = cur_coord\n",
    "            last_heading = row['compass_heading(degrees)'] \n",
    "\n",
    "\n",
    "    # Add the last frame of the observation no matter what\n",
    "    if not log.loc[last_ind, 'used_in_map']:\n",
    "        ind_list[flight_ind].append(last_ind)\n",
    "        frame_list[flight_ind].append(log.loc[last_ind, 'frame_num'])\n",
    "        flight_logs[flight_ind].loc[last_ind, 'used_in_map'] = True\n",
    "\n",
    "\n",
    "    print('{} frames were added to the map from flight {}.'.format(len(set(frame_list[flight_ind])), flight_ind))\n",
    "    # print(list(flight_logs[flight_ind].loc[flight_logs[flight_ind]['used_in_map'], 'frame_num']))\n",
    "    print('{} frames were added from rotation'.format(rotate_count))\n",
    "    print('{} frames were added from movement'.format(move_count))\n",
    "    print('{} frames were added from continued movement'.format(thresh_count))\n",
    "    \n",
    "\n",
    "print('{} frames were added to the map in total'.format(sum([len(set(l)) for l in frame_list])))\n"
   ]
  },
  {
   "cell_type": "code",
   "execution_count": 22,
   "metadata": {},
   "outputs": [],
   "source": [
    "# This is for checking map accuracy\n",
    "# Add 100 extra frames that will be used in the map to compare movement estimates vs reality\n",
    "\n",
    "num_test_frames_per_log = 50\n",
    "\n",
    "for flight_ind in range(len(drone_logs)):\n",
    "    flight_logs[flight_ind] = flight_logs[flight_ind].assign(test_frame=False)\n",
    "    # index in flight log corresponding to first frame in recording\n",
    "    first_ind = np.min(np.nonzero(flight_logs[flight_ind]['frame_num'] >= first_last_flights[flight_ind]['first_frame']))\n",
    "    # index in flight log corresponding to last frame in recording\n",
    "    last_ind = np.min(np.nonzero(flight_logs[flight_ind]['frame_num'] >= first_last_flights[flight_ind]['last_frame']))\n",
    "    for ind in np.linspace(first_ind, last_ind, num_test_frames_per_log+1, endpoint=False, dtype=int)[1:]:\n",
    "        # first_ind is already in the map so don't use that\n",
    "        flight_logs[flight_ind].loc[ind, 'used_in_map'] = True\n",
    "        flight_logs[flight_ind].loc[ind, 'test_frame'] = True\n",
    "        frame_list[flight_ind].append(flight_logs[flight_ind].loc[ind, 'frame_num'])\n",
    "        ind_list[flight_ind].append(ind)"
   ]
  },
  {
   "cell_type": "code",
   "execution_count": 23,
   "metadata": {},
   "outputs": [
    {
     "data": {
      "text/plain": [
       "['/home/golden/kenya_drones/processing/kenya-tracking/raw-frames/raw-footage/observation070/APR03_2018_A_DJI_0281',\n",
       " '/home/golden/kenya_drones/processing/kenya-tracking/raw-frames/raw-footage/observation070/APR03_2018_B_DJI_0014',\n",
       " '/home/golden/kenya_drones/processing/kenya-tracking/raw-frames/raw-footage/observation070/APR03_2018_B_DJI_0013',\n",
       " '/home/golden/kenya_drones/processing/kenya-tracking/raw-frames/raw-footage/observation070/APR03_2018_C_DJI_0283',\n",
       " '/home/golden/kenya_drones/processing/kenya-tracking/raw-frames/raw-footage/observation070/APR03_2018_A_DJI_0282',\n",
       " '/home/golden/kenya_drones/processing/kenya-tracking/raw-frames/raw-footage/observation070/APR03_2018_C_DJI_0284',\n",
       " '/home/golden/kenya_drones/processing/kenya-tracking/raw-frames/raw-footage/observation070/APR03_2018_C_DJI_0286',\n",
       " '/home/golden/kenya_drones/processing/kenya-tracking/raw-frames/raw-footage/observation070/APR03_2018_B_DJI_0012',\n",
       " '/home/golden/kenya_drones/processing/kenya-tracking/raw-frames/raw-footage/observation070/APR03_2018_A_DJI_0280',\n",
       " '/home/golden/kenya_drones/processing/kenya-tracking/raw-frames/raw-footage/observation070/APR03_2018_B_DJI_0015',\n",
       " '/home/golden/kenya_drones/processing/kenya-tracking/raw-frames/raw-footage/observation070/APR03_2018_A_DJI_0279',\n",
       " '/home/golden/kenya_drones/processing/kenya-tracking/raw-frames/raw-footage/observation070/APR03_2018_C_DJI_0285']"
      ]
     },
     "execution_count": 23,
     "metadata": {},
     "output_type": "execute_result"
    }
   ],
   "source": [
    "glob_string = frame_folders_root + '/*_*_*_*_*'\n",
    "glob.glob(glob_string)"
   ]
  },
  {
   "cell_type": "code",
   "execution_count": 24,
   "metadata": {},
   "outputs": [],
   "source": [
    "# print(flight_logs[0].loc[flight_logs[0]['used_in_map'], ['image_name', 'longitude', 'latitude', 'test_frame']])"
   ]
  },
  {
   "cell_type": "markdown",
   "metadata": {},
   "source": [
    "[[6247, 23941, 24139, 24331, 24517, 24715, 24913, 27458, 33950, 34208, 48392, 48578, 55551, 62643, 62739, 67125], [], []]"
   ]
  },
  {
   "cell_type": "code",
   "execution_count": 25,
   "metadata": {},
   "outputs": [
    {
     "name": "stdout",
     "output_type": "stream",
     "text": [
      "['/home/golden/kenya_drones/processing/kenya-tracking/raw-frames/raw-footage/observation070/APR03_2018_A_DJI', '/home/golden/kenya_drones/processing/kenya-tracking/raw-frames/raw-footage/observation070/APR03_2018_B_DJI', '/home/golden/kenya_drones/processing/kenya-tracking/raw-frames/raw-footage/observation070/APR03_2018_C_DJI']\n",
      "This is where the images will be saved: /home/golden/Dropbox/temp-image-viewing/observation070/map-images\n"
     ]
    }
   ],
   "source": [
    "# Get the actual frames chosen above to construct map\n",
    "\n",
    "# Should the actual images be copied somewhere\n",
    "SAVE_IMAGES = True\n",
    "\n",
    "glob_string = frame_folders_root + '/*_*_*_*_*'\n",
    "video_frame_folders = [fn for fn in glob.glob(glob_string) \n",
    "                       if not (os.path.basename(fn).startswith('drone') \n",
    "                       or os.path.basename(fn).startswith('observation'))]\n",
    "\n",
    "\n",
    "video_names = [folder.rpartition('_')[0] for folder in video_frame_folders]\n",
    "# have only one entry for every video name\n",
    "video_names = list(set(video_names))\n",
    "video_names.sort()\n",
    "print(video_names)\n",
    "\n",
    "# This is where the images will be saved\n",
    "map_images_folder = os.path.join(output_folder_root, 'map-images')\n",
    "if not os.path.isdir(map_images_folder):\n",
    "    os.makedirs(map_images_folder, exist_ok=True)\n",
    "\n",
    "video_ind = 0\n",
    "export_images = []\n",
    "for video_ind in range(len(video_names)):\n",
    "    # Folders for all the images extracted from the clips of a given flight\n",
    "    image_folders = glob.glob(video_names[video_ind] + '*')\n",
    "    image_folders.sort()\n",
    "\n",
    "    \n",
    "\n",
    "\n",
    "    fl_dicts = first_last_folders[video_ind]\n",
    "    # Frame_list contains the frame numbers that should be added to the map\n",
    "    for map_frame_ind, frame_num in enumerate(frame_list[video_ind][:]):\n",
    "       # ex_frame_num = 0\n",
    "        for folder_ind, fl_dict in enumerate(fl_dicts):\n",
    "            # Frame is contained the this folder\n",
    "            if frame_num <= fl_dict['last_frame']:\n",
    "                # make frame num even since those are the only frames that get extracted\n",
    "                if frame_num % 2 != 0:\n",
    "                    frame_num -= 1\n",
    "                image_file = glob.glob(image_folders[folder_ind] + '/*_*' + '{:05d}'.format(frame_num) + '.jpg')\n",
    "                export_images.append(image_file[0])\n",
    "                if not os.path.exists(image_file[0]):\n",
    "                    print('following file does not exist: {}'.format(image_file[0]))\n",
    "                else:\n",
    "                    out_file = os.path.join(map_images_folder, os.path.basename(image_file[0]))\n",
    "                    flight_logs[video_ind].loc[ind_list[video_ind][map_frame_ind], 'image_name'] = os.path.basename(image_file[0])\n",
    "                    if SAVE_IMAGES:\n",
    "                        shutil.copyfile(image_file[0], out_file)\n",
    "\n",
    "                break\n",
    "            else:\n",
    "#               frame number is in a later folder\n",
    "                frame_num -= (fl_dict['last_frame'] + 2)\n",
    "#               ex_frame_num += (fl_dict['last_frame'] + 2) \n",
    "                if folder_ind >= len(fl_dicts) - 1:\n",
    "                    print('failed', frame_list[video_ind][map_frame_ind])\n",
    "\n",
    "\n",
    "\n",
    "print('This is where the images will be saved:', map_images_folder)"
   ]
  },
  {
   "cell_type": "code",
   "execution_count": 26,
   "metadata": {},
   "outputs": [
    {
     "data": {
      "text/plain": [
       "'/home/golden/Dropbox/temp-image-viewing/observation070/map-images/APR03_2018_C_DJI_0285_08558.jpg'"
      ]
     },
     "execution_count": 26,
     "metadata": {},
     "output_type": "execute_result"
    }
   ],
   "source": [
    "out_file"
   ]
  },
  {
   "cell_type": "code",
   "execution_count": 27,
   "metadata": {},
   "outputs": [
    {
     "name": "stdout",
     "output_type": "stream",
     "text": [
      "52\n",
      "52\n"
     ]
    }
   ],
   "source": [
    "flight_num = 1\n",
    "print(flight_logs[flight_num].loc[flight_logs[flight_num]['used_in_map']].shape[0])\n",
    "print(len(frame_list[flight_num]))"
   ]
  },
  {
   "cell_type": "code",
   "execution_count": 28,
   "metadata": {},
   "outputs": [],
   "source": [
    "# Save the dataframes in the output folder specified above\n",
    "dropbox_folder = os.path.join(\"/home/golden/Dropbox/map-params\", video_name, 'drone-logs')\n",
    "if not os.path.isdir(dropbox_folder):\n",
    "    os.makedirs(dropbox_folder)\n",
    "for flight_num in range(len(flight_logs)):\n",
    "    filename = os.path.join(dropbox_folder, 'flight_{}.pkl'.format(flight_num))\n",
    "    flight_logs[flight_num].to_pickle(filename)"
   ]
  },
  {
   "cell_type": "code",
   "execution_count": 29,
   "metadata": {},
   "outputs": [
    {
     "data": {
      "text/plain": [
       "'/home/golden/kenya_drones/map_test_params/observation070'"
      ]
     },
     "execution_count": 29,
     "metadata": {},
     "output_type": "execute_result"
    }
   ],
   "source": [
    "server_output_folder"
   ]
  },
  {
   "cell_type": "code",
   "execution_count": 30,
   "metadata": {},
   "outputs": [
    {
     "name": "stdout",
     "output_type": "stream",
     "text": [
      "9787\n",
      "{'first_frame': 9786, 'last_frame': 19630}\n"
     ]
    }
   ],
   "source": [
    "print(frame_list[1][0])\n",
    "print(first_last_folders[1][0])"
   ]
  },
  {
   "cell_type": "code",
   "execution_count": 31,
   "metadata": {},
   "outputs": [],
   "source": [
    "# Save the information about the frames used in map in .csv\n",
    "# saved to output folder specified above\n",
    "dfs = []\n",
    "for flight_ind in range(len(flight_logs)):\n",
    "    dfs.append(flight_logs[flight_ind].loc[ind_list[flight_ind], ['image_name', 'latitude', 'longitude', 'altitude(m)']].copy())\n",
    "total_df = pd.concat(dfs, ignore_index=True)\n",
    "\n",
    "total_df.to_csv(os.path.join(output_folder_root, 'whole_obs_file_lat_long_alt.csv'), header=False, index=False)"
   ]
  },
  {
   "cell_type": "code",
   "execution_count": 24,
   "metadata": {},
   "outputs": [
    {
     "data": {
      "text/plain": [
       "(255, 4)"
      ]
     },
     "execution_count": 24,
     "metadata": {},
     "output_type": "execute_result"
    }
   ],
   "source": [
    "total_df.shape"
   ]
  },
  {
   "cell_type": "code",
   "execution_count": 20,
   "metadata": {},
   "outputs": [
    {
     "name": "stdout",
     "output_type": "stream",
     "text": [
      "                            image_name\n",
      "1353   NOV14_2017_E_DJI_0231_08214.jpg\n",
      "1401   NOV14_2017_E_DJI_0231_08502.jpg\n",
      "1430   NOV14_2017_E_DJI_0231_08688.jpg\n",
      "1565   NOV14_2017_E_DJI_0231_09498.jpg\n",
      "1600   NOV14_2017_E_DJI_0231_09708.jpg\n",
      "1610   NOV14_2017_E_DJI_0231_09774.jpg\n",
      "1612   NOV14_2017_E_DJI_0231_09786.jpg\n",
      "1620   NOV14_2017_E_DJI_0231_09834.jpg\n",
      "1629   NOV14_2017_E_DJI_0231_09888.jpg\n",
      "1643   NOV14_2017_E_DJI_0231_09972.jpg\n",
      "1654   NOV14_2017_E_DJI_0231_10038.jpg\n",
      "1663   NOV14_2017_E_DJI_0231_10092.jpg\n",
      "1680   NOV14_2017_E_DJI_0231_10194.jpg\n",
      "1693   NOV14_2017_E_DJI_0231_10272.jpg\n",
      "1701   NOV14_2017_E_DJI_0231_10320.jpg\n",
      "1705   NOV14_2017_E_DJI_0231_10344.jpg\n",
      "1716   NOV14_2017_E_DJI_0231_10410.jpg\n",
      "1720   NOV14_2017_E_DJI_0231_10434.jpg\n",
      "1723   NOV14_2017_E_DJI_0231_10452.jpg\n",
      "1725   NOV14_2017_E_DJI_0231_10464.jpg\n",
      "1729   NOV14_2017_E_DJI_0231_10488.jpg\n",
      "1736   NOV14_2017_E_DJI_0231_10530.jpg\n",
      "1745   NOV14_2017_E_DJI_0231_10584.jpg\n",
      "1747   NOV14_2017_E_DJI_0231_10596.jpg\n",
      "3223   NOV14_2017_E_DJI_0231_19572.jpg\n",
      "3244   NOV14_2017_E_DJI_0232_00070.jpg\n",
      "3254   NOV14_2017_E_DJI_0232_00130.jpg\n",
      "3271   NOV14_2017_E_DJI_0232_00232.jpg\n",
      "3987   NOV14_2017_E_DJI_0232_04582.jpg\n",
      "3988   NOV14_2017_E_DJI_0232_04588.jpg\n",
      "4292   NOV14_2017_E_DJI_0232_06466.jpg\n",
      "4295   NOV14_2017_E_DJI_0232_06484.jpg\n",
      "4298   NOV14_2017_E_DJI_0232_06502.jpg\n",
      "4305   NOV14_2017_E_DJI_0232_06550.jpg\n",
      "4317   NOV14_2017_E_DJI_0232_06622.jpg\n",
      "4327   NOV14_2017_E_DJI_0232_06682.jpg\n",
      "6164   NOV14_2017_E_DJI_0232_17872.jpg\n",
      "6168   NOV14_2017_E_DJI_0232_17896.jpg\n",
      "6188   NOV14_2017_E_DJI_0232_18016.jpg\n",
      "6208   NOV14_2017_E_DJI_0232_18136.jpg\n",
      "6252   NOV14_2017_E_DJI_0232_18412.jpg\n",
      "6257   NOV14_2017_E_DJI_0232_18442.jpg\n",
      "6291   NOV14_2017_E_DJI_0232_18646.jpg\n",
      "6318   NOV14_2017_E_DJI_0232_18808.jpg\n",
      "7373   NOV14_2017_E_DJI_0233_05602.jpg\n",
      "7404   NOV14_2017_E_DJI_0233_05788.jpg\n",
      "7416   NOV14_2017_E_DJI_0233_05866.jpg\n",
      "7429   NOV14_2017_E_DJI_0233_05950.jpg\n",
      "8120   NOV14_2017_E_DJI_0233_10114.jpg\n",
      "8128   NOV14_2017_E_DJI_0233_10162.jpg\n",
      "9383   NOV14_2017_E_DJI_0233_18532.jpg\n",
      "9393   NOV14_2017_E_DJI_0233_18604.jpg\n",
      "10913                             None\n",
      "                            image_name\n",
      "1724   NOV14_2017_F_DJI_0067_11464.jpg\n",
      "1915   NOV14_2017_F_DJI_0067_12712.jpg\n",
      "1933   NOV14_2017_F_DJI_0067_12826.jpg\n",
      "1950   NOV14_2017_F_DJI_0067_12940.jpg\n",
      "1962   NOV14_2017_F_DJI_0067_13018.jpg\n",
      "2515   NOV14_2017_F_DJI_0067_16660.jpg\n",
      "2534   NOV14_2017_F_DJI_0067_16774.jpg\n",
      "2537   NOV14_2017_F_DJI_0067_16792.jpg\n",
      "2545   NOV14_2017_F_DJI_0067_16846.jpg\n",
      "2593   NOV14_2017_F_DJI_0067_17146.jpg\n",
      "2606   NOV14_2017_F_DJI_0067_17230.jpg\n",
      "2643   NOV14_2017_F_DJI_0067_17470.jpg\n",
      "2651   NOV14_2017_F_DJI_0067_17518.jpg\n",
      "2654   NOV14_2017_F_DJI_0067_17536.jpg\n",
      "2660   NOV14_2017_F_DJI_0067_17572.jpg\n",
      "3007   NOV14_2017_F_DJI_0068_00128.jpg\n",
      "3017   NOV14_2017_F_DJI_0068_00188.jpg\n",
      "3078   NOV14_2017_F_DJI_0068_00554.jpg\n",
      "3079   NOV14_2017_F_DJI_0068_00560.jpg\n",
      "3152   NOV14_2017_F_DJI_0068_01010.jpg\n",
      "3153   NOV14_2017_F_DJI_0068_01016.jpg\n",
      "3627   NOV14_2017_F_DJI_0068_03896.jpg\n",
      "3653   NOV14_2017_F_DJI_0068_04052.jpg\n",
      "3673   NOV14_2017_F_DJI_0068_04172.jpg\n",
      "3692   NOV14_2017_F_DJI_0068_04286.jpg\n",
      "3708   NOV14_2017_F_DJI_0068_04388.jpg\n",
      "3727   NOV14_2017_F_DJI_0068_04502.jpg\n",
      "4129   NOV14_2017_F_DJI_0068_06950.jpg\n",
      "4152   NOV14_2017_F_DJI_0068_07088.jpg\n",
      "4678   NOV14_2017_F_DJI_0068_10274.jpg\n",
      "...                                ...\n",
      "4698   NOV14_2017_F_DJI_0068_10394.jpg\n",
      "4703   NOV14_2017_F_DJI_0068_10424.jpg\n",
      "4706   NOV14_2017_F_DJI_0068_10442.jpg\n",
      "5446   NOV14_2017_F_DJI_0068_14912.jpg\n",
      "5469   NOV14_2017_F_DJI_0068_15050.jpg\n",
      "5755   NOV14_2017_F_DJI_0068_16802.jpg\n",
      "5758   NOV14_2017_F_DJI_0068_16820.jpg\n",
      "5767   NOV14_2017_F_DJI_0068_16874.jpg\n",
      "5784   NOV14_2017_F_DJI_0068_16982.jpg\n",
      "6301   NOV14_2017_F_DJI_0069_00492.jpg\n",
      "6313   NOV14_2017_F_DJI_0069_00564.jpg\n",
      "6320   NOV14_2017_F_DJI_0069_00606.jpg\n",
      "6323   NOV14_2017_F_DJI_0069_00624.jpg\n",
      "6349   NOV14_2017_F_DJI_0069_00786.jpg\n",
      "6367   NOV14_2017_F_DJI_0069_00894.jpg\n",
      "8717   NOV14_2017_F_DJI_0069_15194.jpg\n",
      "8721   NOV14_2017_F_DJI_0069_15218.jpg\n",
      "8859   NOV14_2017_F_DJI_0069_16046.jpg\n",
      "8881   NOV14_2017_F_DJI_0069_16178.jpg\n",
      "9372   NOV14_2017_F_DJI_0069_19160.jpg\n",
      "9383   NOV14_2017_F_DJI_0069_19232.jpg\n",
      "9386   NOV14_2017_F_DJI_0069_19256.jpg\n",
      "9389   NOV14_2017_F_DJI_0069_19274.jpg\n",
      "9402   NOV14_2017_F_DJI_0069_19352.jpg\n",
      "9410   NOV14_2017_F_DJI_0069_19400.jpg\n",
      "9424   NOV14_2017_F_DJI_0069_19484.jpg\n",
      "9429   NOV14_2017_F_DJI_0069_19514.jpg\n",
      "9617   NOV14_2017_F_DJI_0070_01014.jpg\n",
      "9631   NOV14_2017_F_DJI_0070_01098.jpg\n",
      "10943  NOV14_2017_F_DJI_0070_09084.jpg\n",
      "\n",
      "[61 rows x 1 columns]\n"
     ]
    },
    {
     "ename": "IndexError",
     "evalue": "list index out of range",
     "output_type": "error",
     "traceback": [
      "\u001b[0;31m---------------------------------------------------------------------------\u001b[0m",
      "\u001b[0;31mIndexError\u001b[0m                                Traceback (most recent call last)",
      "\u001b[0;32m<ipython-input-20-fa467a669aca>\u001b[0m in \u001b[0;36m<module>\u001b[0;34m\u001b[0m\n\u001b[1;32m      1\u001b[0m \u001b[0;32mfor\u001b[0m \u001b[0mflight_ind\u001b[0m \u001b[0;32min\u001b[0m \u001b[0mrange\u001b[0m\u001b[0;34m(\u001b[0m\u001b[0;36m3\u001b[0m\u001b[0;34m)\u001b[0m\u001b[0;34m:\u001b[0m\u001b[0;34m\u001b[0m\u001b[0;34m\u001b[0m\u001b[0m\n\u001b[0;32m----> 2\u001b[0;31m     \u001b[0mprint\u001b[0m\u001b[0;34m(\u001b[0m\u001b[0mflight_logs\u001b[0m\u001b[0;34m[\u001b[0m\u001b[0mflight_ind\u001b[0m\u001b[0;34m]\u001b[0m\u001b[0;34m.\u001b[0m\u001b[0mloc\u001b[0m\u001b[0;34m[\u001b[0m\u001b[0mflight_logs\u001b[0m\u001b[0;34m[\u001b[0m\u001b[0mflight_ind\u001b[0m\u001b[0;34m]\u001b[0m\u001b[0;34m[\u001b[0m\u001b[0;34m'used_in_map'\u001b[0m\u001b[0;34m]\u001b[0m\u001b[0;34m,\u001b[0m \u001b[0;34m[\u001b[0m\u001b[0;34m'image_name'\u001b[0m\u001b[0;34m]\u001b[0m\u001b[0;34m]\u001b[0m\u001b[0;34m)\u001b[0m\u001b[0;34m\u001b[0m\u001b[0;34m\u001b[0m\u001b[0m\n\u001b[0m",
      "\u001b[0;31mIndexError\u001b[0m: list index out of range"
     ]
    }
   ],
   "source": [
    " for flight_ind in range(3):\n",
    "     print(flight_logs[flight_ind].loc[flight_logs[flight_ind]['used_in_map'], ['image_name']])"
   ]
  },
  {
   "cell_type": "code",
   "execution_count": 21,
   "metadata": {},
   "outputs": [
    {
     "data": {
      "text/plain": [
       "latitude                               0.337653\n",
       "longitude                               36.9062\n",
       "altitude(feet)                          5662.69\n",
       "ascent(feet)                             265.42\n",
       "speed(mph)                                    0\n",
       "distance(feet)                          2247.62\n",
       "time(millisecond)                       1103500\n",
       "datetime(utc)               2018-04-04 06:19:25\n",
       "satellites                                   20\n",
       "gpslevel                                      0\n",
       "voltage(v)                               14.608\n",
       "max_altitude(feet)                       5711.9\n",
       "max_ascent(feet)                        314.633\n",
       "max_speed(mph)                          28.7447\n",
       "max_distance(feet)                      2247.72\n",
       "xSpeed(mph)                                   0\n",
       "ySpeed(mph)                                   0\n",
       "zSpeed(mph)                                   0\n",
       "compass_heading(degrees)                  261.9\n",
       "pitch(degrees)                              1.1\n",
       "roll(degrees)                              -3.4\n",
       "isPhoto                                       0\n",
       "isVideo                                       0\n",
       "rc_elevator                                1024\n",
       "rc_aileron                                 1024\n",
       "rc_throttle                                1024\n",
       "rc_rudder                                  1024\n",
       "gimbal_heading(degrees)                     262\n",
       "gimbal_pitch(degrees)                     -89.9\n",
       "battery_percent                              25\n",
       "voltageCell1                               3.65\n",
       "voltageCell2                              3.664\n",
       "voltageCell3                              3.661\n",
       "voltageCell4                              3.635\n",
       "voltageCell5                                  0\n",
       "voltageCell6                                  0\n",
       "current(A)                               14.734\n",
       "battery_temperature(f)                   123.71\n",
       "flycStateRaw                                  6\n",
       "flycState                                 P-GPS\n",
       "message                                     NaN\n",
       "frame_num                                 66784\n",
       "observing                                  True\n",
       "image_name                                 None\n",
       "used_in_map                               False\n",
       "Name: 10522, dtype: object"
      ]
     },
     "execution_count": 21,
     "metadata": {},
     "output_type": "execute_result"
    }
   ],
   "source": [
    "flight_logs[2].iloc[10522]"
   ]
  },
  {
   "cell_type": "code",
   "execution_count": 33,
   "metadata": {},
   "outputs": [],
   "source": []
  },
  {
   "cell_type": "code",
   "execution_count": null,
   "metadata": {},
   "outputs": [],
   "source": [
    "                           "
   ]
  }
 ],
 "metadata": {
  "kernelspec": {
   "display_name": "Python 3",
   "language": "python",
   "name": "python3"
  },
  "language_info": {
   "codemirror_mode": {
    "name": "ipython",
    "version": 3
   },
   "file_extension": ".py",
   "mimetype": "text/x-python",
   "name": "python",
   "nbconvert_exporter": "python",
   "pygments_lexer": "ipython3",
   "version": "3.6.9"
  }
 },
 "nbformat": 4,
 "nbformat_minor": 4
}
