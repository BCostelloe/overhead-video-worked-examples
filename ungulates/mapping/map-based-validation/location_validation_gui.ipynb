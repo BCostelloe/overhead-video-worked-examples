{
 "cells": [
  {
   "cell_type": "markdown",
   "metadata": {},
   "source": [
    "### GUI that uses files produced in 'create_validation_files.ipynb' for human validation of animal locations in landscape\n",
    "\n",
    "For maximum accuracy it can be helpful to have multiple people validate the same set of images. To facilitate this, the files in the folder called 'estimated_raster_positions' generated in 'create_validation_files.ipynb' should be copied to a nwe folder called '{annoters_name}_estimated_raster_positions'. Each annotater will have their own folder where their work will be saved.\n",
    "\n",
    "Use the notebook called 'human_groundtruth_validation.ipynb' to process the output."
   ]
  },
  {
   "cell_type": "markdown",
   "metadata": {},
   "source": [
    "### GUI Instructions \n",
    "Click in the frame called \"map_image\" where the highlighed animal in the frame\n",
    "called \"video_frame\" is standing.\n",
    "\n",
    "Press 'l' to move to the next frame\n",
    "Press 'j' to go back\n",
    "\n",
    "The position autosaves when the frame changes"
   ]
  },
  {
   "cell_type": "code",
   "execution_count": 7,
   "metadata": {},
   "outputs": [],
   "source": [
    "import glob\n",
    "import json\n",
    "import os\n",
    "\n",
    "import cv2\n",
    "\n",
    "# local .json file with local path info\n",
    "ungulates_root = os.path.dirname(os.path.dirname(os.getcwd()))\n",
    "local_paths_file = os.path.join(ungulates_root, 'local-paths.json')\n",
    "with open(local_paths_file, \"r\") as json_file:\n",
    "    local_paths = json.load(json_file)\n",
    "\n",
    "import sys\n",
    "sys.path.append(local_paths['overhead_functions_path'])\n",
    "\n",
    "from MapValidationGUI import MapValidationGUI"
   ]
  },
  {
   "cell_type": "code",
   "execution_count": 8,
   "metadata": {},
   "outputs": [],
   "source": [
    "observation_name = \"observation088\"\n",
    "# name of the annotater: should match the name used in the created folder for them\n",
    "# (see above)\n",
    "annotator_name = \"koger\"\n",
    "\n",
    "# Where all the annotation folders created in 'human-groundtruth-validation.ipynb' are.\n",
    "root_folder =  os.path.join(local_paths[\"pix4d_folder\"], observation_name,\n",
    "                            \"validation\")"
   ]
  },
  {
   "cell_type": "code",
   "execution_count": 9,
   "metadata": {},
   "outputs": [],
   "source": [
    "map_images_folder = os.path.join(root_folder, 'map_images')\n",
    "frame_positions_folder = os.path.join(root_folder, 'frame_positions')\n",
    "video_frames_folder = os.path.join(root_folder, 'video_frames')\n",
    "map_positions_folder = os.path.join(root_folder, annotator_name + '_estimated_raster_positions')\n",
    "os.makedirs(map_positions_folder, exist_ok=True)"
   ]
  },
  {
   "cell_type": "code",
   "execution_count": 10,
   "metadata": {},
   "outputs": [],
   "source": [
    "map_image_files = sorted(glob.glob(os.path.join(map_images_folder, '*.jpg')))\n",
    "video_frames_files = sorted(glob.glob(os.path.join(video_frames_folder, '*.jpg')))\n",
    "frame_positions_files = sorted(glob.glob(os.path.join(frame_positions_folder, '*.npy')))\n",
    "map_positions_files = sorted(glob.glob(os.path.join(map_positions_folder, '*.npy')))"
   ]
  },
  {
   "cell_type": "code",
   "execution_count": null,
   "metadata": {},
   "outputs": [],
   "source": []
  },
  {
   "cell_type": "code",
   "execution_count": 11,
   "metadata": {},
   "outputs": [],
   "source": [
    "# How big to draw the GUI windows\n",
    "max_size = 1000\n",
    "\n",
    "gui = MapValidationGUI(map_image_files, video_frames_files, \n",
    "                       frame_positions_files, map_positions_files,\n",
    "                       max_size)"
   ]
  },
  {
   "cell_type": "code",
   "execution_count": 12,
   "metadata": {},
   "outputs": [
    {
     "name": "stdout",
     "output_type": "stream",
     "text": [
      "quitting\n"
     ]
    },
    {
     "data": {
      "text/plain": [
       "-1"
      ]
     },
     "execution_count": 12,
     "metadata": {},
     "output_type": "execute_result"
    }
   ],
   "source": [
    "cv2.namedWindow('map_image')\n",
    "cv2.setMouseCallback('map_image', gui.clicked)\n",
    "\n",
    "while True:\n",
    "    gui.refresh_windows()\n",
    "    gui.draw_frame_positions()\n",
    "    gui.draw_map_positions()\n",
    "    gui.show_windows()\n",
    "    key = cv2.waitKey(500) & 255\n",
    "    gui.react_to_keypress(key)\n",
    "    if key == ord('q'):\n",
    "        gui.save_map_positions()\n",
    "        print('quitting')\n",
    "        break\n",
    "cv2.destroyAllWindows()\n",
    "cv2.waitKey(1)"
   ]
  },
  {
   "cell_type": "code",
   "execution_count": null,
   "metadata": {},
   "outputs": [],
   "source": []
  }
 ],
 "metadata": {
  "kernelspec": {
   "display_name": "Python 3",
   "language": "python",
   "name": "python3"
  },
  "language_info": {
   "codemirror_mode": {
    "name": "ipython",
    "version": 3
   },
   "file_extension": ".py",
   "mimetype": "text/x-python",
   "name": "python",
   "nbconvert_exporter": "python",
   "pygments_lexer": "ipython3",
   "version": "3.6.9"
  }
 },
 "nbformat": 4,
 "nbformat_minor": 4
}
