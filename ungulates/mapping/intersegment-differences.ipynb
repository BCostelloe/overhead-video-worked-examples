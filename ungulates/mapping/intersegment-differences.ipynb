{
 "cells": [
  {
   "cell_type": "code",
   "execution_count": 7,
   "metadata": {},
   "outputs": [],
   "source": [
    "import glob\n",
    "import json\n",
    "import os\n",
    "\n",
    "import matplotlib.pyplot as plt\n",
    "import numpy as np\n",
    "\n",
    "# local .json file with local path info\n",
    "ungulates_root = os.path.dirname(os.getcwd())\n",
    "local_paths_file = os.path.join(ungulates_root, 'local-paths.json')\n",
    "with open(local_paths_file, \"r\") as json_file:\n",
    "    local_paths = json.load(json_file)\n",
    "\n",
    "import sys\n",
    "sys.path.append(local_paths['overhead_functions_path'])\n",
    "\n",
    "import koger_general_functions as kgf\n",
    "import mapping_functions as kmap\n",
    "\n",
    "plt.style.use('dark_background')"
   ]
  },
  {
   "cell_type": "markdown",
   "metadata": {},
   "source": [
    "### Compare difference between locations projected into map from same frame but two different camera matrices (last anchor plus local movement estimation to next anchor vs next anchor)"
   ]
  },
  {
   "cell_type": "code",
   "execution_count": 2,
   "metadata": {},
   "outputs": [],
   "source": [
    "# keep as '*' to get all observations, or change to specific observation name \n",
    "observation_name = \"observation088\"\n",
    "tracks_name = \"tracks-complete.npy\"\n",
    "\n",
    "kenya_drones_path = local_paths['server']\n",
    "map_folder = os.path.join(local_paths['pix4d_folder'], observation_name)\n",
    "# path to the saved flight logs that contain both drone sensor info and the video frame info\n",
    "flight_logs_folder = os.path.join(map_folder, 'drone-logs')\n",
    "\n",
    "tracks_file = os.path.join(local_paths[\"processed_folder\"], observation_name, \n",
    "                           \"localizations\", tracks_name) \n",
    "frame_folders_root = os.path.join(local_paths['base_frames_folder'], observation_name)\n",
    "\n",
    "drone_movement_folder = os.path.join(frame_folders_root, \n",
    "                                    \"worked_examples_drone_movement\")"
   ]
  },
  {
   "cell_type": "code",
   "execution_count": 4,
   "metadata": {},
   "outputs": [],
   "source": [
    "pix4d_info = kmap.get_pix4d_info(map_folder, f\"worked_examples_{observation_name}\")"
   ]
  },
  {
   "cell_type": "code",
   "execution_count": 5,
   "metadata": {},
   "outputs": [
    {
     "name": "stdout",
     "output_type": "stream",
     "text": [
      "2 gt images not used in final map.\n",
      "gt not found. using APR08_2018_A_DJI_0008_08224.jpg for APR08_2018_A_DJI_0008_08226.jpg.\n"
     ]
    }
   ],
   "source": [
    "tracks = np.load(tracks_file, allow_pickle=True)\n",
    "# Sometimes images that the flight log suggests to use in map are not actually\n",
    "# These need to be removed and accounted for\n",
    "flight_logs = kmap.get_cleaned_flight_logs(flight_logs_folder, \n",
    "                                           pix4d_info['pmatrices'])\n",
    "groundtruth_obs_indexes, _ = kmap.get_groundtruth_obs_indexes(flight_logs, \n",
    "                                                              frame_folders_root)\n",
    "\n",
    "segment_movement_files = glob.glob(\n",
    "    os.path.join(drone_movement_folder,\"drone_movement_segment_*.npy\"))\n",
    "segment_movements = [np.load(file) for file in sorted(segment_movement_files)]\n",
    "\n",
    "segment_inlier_files = glob.glob(\n",
    "    os.path.join(drone_movement_folder,\"inliers_segment_*.npy\"))\n",
    "segment_inliers = [np.load(file) for file in sorted(segment_inlier_files)]"
   ]
  },
  {
   "cell_type": "code",
   "execution_count": 6,
   "metadata": {},
   "outputs": [
    {
     "name": "stdout",
     "output_type": "stream",
     "text": [
      "Warning: using 'get_ungulates_frame_height.' This function  returns a hard coded value that is correct for the standard  ungulate worked example videos.\n"
     ]
    },
    {
     "data": {
      "text/plain": [
       "[<matplotlib.lines.Line2D at 0x7fc7d418b4a8>]"
      ]
     },
     "execution_count": 6,
     "metadata": {},
     "output_type": "execute_result"
    },
    {
     "data": {
      "image/png": "[encoded data removed]",
      "text/plain": [
       "<Figure size 504x504 with 2 Axes>"
      ]
     },
     "metadata": {},
     "output_type": "display_data"
    }
   ],
   "source": [
    "# (meters) consider points on ray within .1 meters of ground to be \"on ground\"\n",
    "correct_threshold = 0.5\n",
    "# max guesses to search for point on ray within correct_threshold of the ground\n",
    "max_guesses = 50 \n",
    "# Where to start searching along the ray\n",
    "mu_est = 80\n",
    "frame_shape = kmap.get_ungulates_frame_shape(supress_warning=False)\n",
    "\n",
    "segment_errors = []\n",
    "\n",
    "for gt_ind, gt_obs_ind in enumerate(groundtruth_obs_indexes[1:]):\n",
    "    segment_errors.append(\n",
    "        kmap.calculate_total_segment_error(tracks, gt_obs_ind, gt_ind, \n",
    "                                           pix4d_info['pmatrices'], \n",
    "                                           segment_movements,\n",
    "                                           mu_est, pix4d_info['offset'], \n",
    "                                           pix4d_info['elevation_r'], \n",
    "                                           max_guesses, correct_threshold, \n",
    "                                           pix4d_info['pixel_width'], \n",
    "                                           pix4d_info['pixel_height'],\n",
    "                                           pix4d_info['x_origin'], \n",
    "                                           pix4d_info['y_origin'], \n",
    "                                           frame_shape,\n",
    "                                           object_height=1\n",
    "                                          )\n",
    "    )\n",
    "\n",
    "\n",
    "\n",
    "distances = [np.linalg.norm(e, axis=1) for e in segment_errors]\n",
    "mean_distances = [np.nanmax(d) for d in distances]\n",
    "\n",
    "min_inliers = [np.min(i) for i in segment_inliers]\n",
    "\n",
    "plt.figure(figsize=(7, 7))\n",
    "plt.plot(mean_distances, 'o')\n",
    "plt.title(observation_name)\n",
    "ax2 = plt.gca().twinx()\n",
    "ax2.plot(min_inliers, 'r*')"
   ]
  }
 ],
 "metadata": {
  "kernelspec": {
   "display_name": "Python 3",
   "language": "python",
   "name": "python3"
  },
  "language_info": {
   "codemirror_mode": {
    "name": "ipython",
    "version": 3
   },
   "file_extension": ".py",
   "mimetype": "text/x-python",
   "name": "python",
   "nbconvert_exporter": "python",
   "pygments_lexer": "ipython3",
   "version": "3.6.9"
  }
 },
 "nbformat": 4,
 "nbformat_minor": 4
}
