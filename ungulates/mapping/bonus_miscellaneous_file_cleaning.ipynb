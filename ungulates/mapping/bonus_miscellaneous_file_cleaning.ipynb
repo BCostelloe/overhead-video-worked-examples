{
 "cells": [
  {
   "cell_type": "markdown",
   "metadata": {},
   "source": [
    "### Revert pix4d ground control point output to valid input format"
   ]
  },
  {
   "cell_type": "code",
   "execution_count": 1,
   "metadata": {},
   "outputs": [],
   "source": [
    "import pandas as pd"
   ]
  },
  {
   "cell_type": "code",
   "execution_count": 14,
   "metadata": {},
   "outputs": [],
   "source": [
    "gcp_file = \"/home/golden/Dropbox/demo-detection/observation088_measured_estimated_gcps_position.txt\"\n",
    "save_file = \"/home/golden/Dropbox/demo-detection/observation088_measured_gcps_position_lbs.txt\""
   ]
  },
  {
   "cell_type": "code",
   "execution_count": 15,
   "metadata": {},
   "outputs": [],
   "source": [
    "gcp = pd.read_csv(gcp_file)\n",
    "gcp_input = gcp[['GCP label', ' GCP measured X', ' GCP measured Y', ' GCP measured Z']].copy()\n",
    "gcp_input.to_csv(save_file, index=False, line_terminator='\\n')"
   ]
  },
  {
   "cell_type": "code",
   "execution_count": null,
   "metadata": {},
   "outputs": [],
   "source": [
    "Dropbox/map-params/worked_examples/worked_examples_observation088/3_dsm_ortho"
   ]
  },
  {
   "cell_type": "code",
   "execution_count": 25,
   "metadata": {},
   "outputs": [
    {
     "name": "stdout",
     "output_type": "stream",
     "text": [
      "mtp1\n",
      "mtp2\n",
      "mtp3\n",
      "mtp4\n",
      "mtp5\n",
      "mtp6\n",
      "riverside4_5_11_mtp32\n",
      "riverside4_5_11_mtp21\n",
      "riverside4_5_11_mtp28\n",
      "mtp49\n",
      "mtp50\n",
      "mtp51\n",
      "mtp52\n",
      "mtp53\n",
      "mtp54\n",
      "mtp55\n",
      "mtp56\n",
      "mtp57\n",
      "mtp58\n",
      "mtp59\n",
      "mtp60\n",
      "mtp61\n"
     ]
    }
   ],
   "source": [
    "print(*[l for l in gcp_input['GCP label']], sep='\\n')"
   ]
  },
  {
   "cell_type": "code",
   "execution_count": null,
   "metadata": {},
   "outputs": [],
   "source": []
  }
 ],
 "metadata": {
  "kernelspec": {
   "display_name": "Python 3",
   "language": "python",
   "name": "python3"
  },
  "language_info": {
   "codemirror_mode": {
    "name": "ipython",
    "version": 3
   },
   "file_extension": ".py",
   "mimetype": "text/x-python",
   "name": "python",
   "nbconvert_exporter": "python",
   "pygments_lexer": "ipython3",
   "version": "3.6.9"
  }
 },
 "nbformat": 4,
 "nbformat_minor": 4
}
