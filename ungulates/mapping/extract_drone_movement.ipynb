{
 "cells": [
  {
   "cell_type": "code",
   "execution_count": 1,
   "metadata": {},
   "outputs": [],
   "source": [
    "import json\n",
    "import os\n",
    "import time\n",
    "\n",
    "from multiprocessing import Pool\n",
    "\n",
    "# local .json file with local path info\n",
    "ungulates_root = os.path.dirname(os.getcwd())\n",
    "local_paths_file = os.path.join(ungulates_root, 'local-paths.json')\n",
    "with open(local_paths_file, \"r\") as json_file:\n",
    "    local_paths = json.load(json_file)\n",
    "\n",
    "import sys\n",
    "sys.path.append(local_paths['overhead_functions_path'])\n",
    "\n",
    "import koger_general_functions as kgf\n",
    "import mapping_functions as kmap\n",
    "from drone_movement import create_gt_segment_dicts, get_segment_drone_movement"
   ]
  },
  {
   "cell_type": "code",
   "execution_count": 2,
   "metadata": {},
   "outputs": [],
   "source": [
    "observation_names = ['observation088']"
   ]
  },
  {
   "cell_type": "code",
   "execution_count": 3,
   "metadata": {},
   "outputs": [
    {
     "name": "stdout",
     "output_type": "stream",
     "text": [
      "processing observation088\n",
      "2 gt images not used in final map.\n",
      "Warning, /home/golden/kenya_drones/processing/kenya-tracking/raw-frames/raw-footage/observation088/worked_examples_drone_movement already exists\n",
      "gt not found. using APR08_2018_A_DJI_0008_08224.jpg for APR08_2018_A_DJI_0008_08226.jpg.\n"
     ]
    }
   ],
   "source": [
    "all_segment_dicts = []\n",
    "\n",
    "save_folder_name = 'worked_examples_drone_movement'\n",
    "\n",
    "for observation_name in observation_names:\n",
    "    print(f\"processing {observation_name}\")\n",
    "    # This is where the raw video images are saved \n",
    "    frame_folders_root = os.path.join(local_paths['base_frames_folder'],\n",
    "                                      observation_name)\n",
    "    pix4d_folder = os.path.join(local_paths['pix4d_folder'], observation_name)\n",
    "    output_folder = os.path.join(frame_folders_root, save_folder_name)\n",
    "        \n",
    "    pmatrix_file = os.path.join(pix4d_folder, \"1_initial\", \"params\",\n",
    "                                f\"worked_examples_{observation_name}_pmatrix.txt\") \n",
    "    pmatrix_list = kmap.create_pmatrix_dicts(pmatrix_file)\n",
    "        \n",
    "    # Load the saved flight logs that contain both drone sensor info and the video frame info\n",
    "    flight_logs_folder = os.path.join(pix4d_folder, 'drone-logs')\n",
    "    flight_logs = kmap.get_cleaned_flight_logs(flight_logs_folder, pmatrix_list)\n",
    "    \n",
    "    segment_dicts = create_gt_segment_dicts(frame_folders_root, \n",
    "                                            flight_logs, output_folder, \n",
    "                                            save=True)\n",
    "    all_segment_dicts.extend(segment_dicts)"
   ]
  },
  {
   "cell_type": "code",
   "execution_count": null,
   "metadata": {},
   "outputs": [
    {
     "name": "stdout",
     "output_type": "stream",
     "text": [
      "Warning. Warp features below threshold: 14, seg num: 33.\n"
     ]
    }
   ],
   "source": [
    "if __name__ == '__main__':\n",
    "    t0 = time.time()\n",
    "    with Pool(processes=8) as pool:\n",
    "        pool.map(get_segment_drone_movement, all_segment_dicts)\n",
    "    print('total time:', time.time() - t0)"
   ]
  },
  {
   "cell_type": "code",
   "execution_count": null,
   "metadata": {},
   "outputs": [],
   "source": []
  },
  {
   "cell_type": "code",
   "execution_count": null,
   "metadata": {},
   "outputs": [],
   "source": []
  },
  {
   "cell_type": "code",
   "execution_count": null,
   "metadata": {},
   "outputs": [],
   "source": []
  },
  {
   "cell_type": "code",
   "execution_count": null,
   "metadata": {},
   "outputs": [],
   "source": []
  },
  {
   "cell_type": "code",
   "execution_count": null,
   "metadata": {},
   "outputs": [],
   "source": []
  },
  {
   "cell_type": "code",
   "execution_count": null,
   "metadata": {},
   "outputs": [],
   "source": []
  },
  {
   "cell_type": "code",
   "execution_count": null,
   "metadata": {},
   "outputs": [],
   "source": []
  },
  {
   "cell_type": "code",
   "execution_count": null,
   "metadata": {},
   "outputs": [],
   "source": []
  },
  {
   "cell_type": "code",
   "execution_count": null,
   "metadata": {},
   "outputs": [],
   "source": []
  }
 ],
 "metadata": {
  "kernelspec": {
   "display_name": "Python 3",
   "language": "python",
   "name": "python3"
  },
  "language_info": {
   "codemirror_mode": {
    "name": "ipython",
    "version": 3
   },
   "file_extension": ".py",
   "mimetype": "text/x-python",
   "name": "python",
   "nbconvert_exporter": "python",
   "pygments_lexer": "ipython3",
   "version": "3.6.9"
  }
 },
 "nbformat": 4,
 "nbformat_minor": 4
}
